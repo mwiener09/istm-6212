{
 "cells": [
  {
   "cell_type": "markdown",
   "metadata": {},
   "source": [
    "# Working with PostgreSQL\n",
    "\n",
    "PostgreSQL is now available at datanotebook.org!\n",
    "\n",
    "There are a few new wrinkles to pay attention to, so follow this example and you should be good to go.\n",
    "\n",
    "First, there is a password for accessing the notebooks.  You will need to enter the correct password before getting started.\n",
    "\n",
    "\n",
    "## Restarting the database\n",
    "\n",
    "Next, due to a configuration quirk, you will need to tell `postgresql` to restart.  It's simple, just use the following line.  Note that it will probably take several seconds to restart."
   ]
  },
  {
   "cell_type": "code",
   "execution_count": 1,
   "metadata": {
    "collapsed": false
   },
   "outputs": [
    {
     "name": "stdout",
     "output_type": "stream",
     "text": [
      "[sudo] password for jovyan: Restarting PostgreSQL 9.5 database server: main.\n"
     ]
    }
   ],
   "source": [
    "!echo 'redspot' | sudo -S service postgresql restart"
   ]
  },
  {
   "cell_type": "markdown",
   "metadata": {},
   "source": [
    "Once that's done, you will need to create a database to use.  In the following cell, we do this with the default database user `dbuser` and create a database called `testing`.  You might want to give your own databases a more meaningful name like `exercise4` or `bikerides` or whatever you like."
   ]
  },
  {
   "cell_type": "code",
   "execution_count": 2,
   "metadata": {
    "collapsed": true
   },
   "outputs": [],
   "source": [
    "!createdb -U dbuser testing"
   ]
  },
  {
   "cell_type": "markdown",
   "metadata": {},
   "source": [
    "Then from there it's almost the same thing we did before.  We activate the `ipython-sql` extension:"
   ]
  },
  {
   "cell_type": "code",
   "execution_count": 3,
   "metadata": {
    "collapsed": false
   },
   "outputs": [
    {
     "name": "stderr",
     "output_type": "stream",
     "text": [
      "/opt/conda/lib/python3.5/site-packages/IPython/config.py:13: ShimWarning: The `IPython.config` package has been deprecated. You should import from traitlets.config instead.\n",
      "  \"You should import from traitlets.config instead.\", ShimWarning)\n",
      "/opt/conda/lib/python3.5/site-packages/IPython/utils/traitlets.py:5: UserWarning: IPython.utils.traitlets has moved to a top-level traitlets package.\n",
      "  warn(\"IPython.utils.traitlets has moved to a top-level traitlets package.\")\n"
     ]
    }
   ],
   "source": [
    "%load_ext sql"
   ]
  },
  {
   "cell_type": "markdown",
   "metadata": {},
   "source": [
    "Don't be alarmed by a pink box with `ShimWarning` and `UserWarning`s!  That's normal.\n",
    "\n",
    "Finally, we connect like we did before, but with a few more details specified, including the postgresql backend, the username, the hostname and port, and, at the end, the name you gave the database you created."
   ]
  },
  {
   "cell_type": "code",
   "execution_count": 4,
   "metadata": {
    "collapsed": false
   },
   "outputs": [
    {
     "data": {
      "text/plain": [
       "'Connected: dbuser@testing'"
      ]
     },
     "execution_count": 4,
     "metadata": {},
     "output_type": "execute_result"
    }
   ],
   "source": [
    "%sql postgresql://dbuser@localhost:5432/testing"
   ]
  },
  {
   "cell_type": "markdown",
   "metadata": {},
   "source": [
    "And from there we're good to go!"
   ]
  },
  {
   "cell_type": "code",
   "execution_count": 5,
   "metadata": {
    "collapsed": false
   },
   "outputs": [
    {
     "name": "stdout",
     "output_type": "stream",
     "text": [
      "Done.\n",
      "Done.\n"
     ]
    },
    {
     "data": {
      "text/plain": [
       "[]"
      ]
     },
     "execution_count": 5,
     "metadata": {},
     "output_type": "execute_result"
    }
   ],
   "source": [
    "%%sql\n",
    "DROP TABLE IF EXISTS t1;\n",
    "CREATE TABLE t1 (\n",
    "    id SERIAL,\n",
    "    name TEXT\n",
    ");"
   ]
  },
  {
   "cell_type": "code",
   "execution_count": 6,
   "metadata": {
    "collapsed": false
   },
   "outputs": [
    {
     "name": "stdout",
     "output_type": "stream",
     "text": [
      "3 rows affected.\n"
     ]
    },
    {
     "data": {
      "text/plain": [
       "[]"
      ]
     },
     "execution_count": 6,
     "metadata": {},
     "output_type": "execute_result"
    }
   ],
   "source": [
    "%%sql\n",
    "INSERT INTO t1 (name) VALUES ('asdf'), ('qwer'), ('zxcv');"
   ]
  },
  {
   "cell_type": "code",
   "execution_count": 7,
   "metadata": {
    "collapsed": false
   },
   "outputs": [
    {
     "name": "stdout",
     "output_type": "stream",
     "text": [
      "3 rows affected.\n"
     ]
    },
    {
     "data": {
      "text/html": [
       "<table>\n",
       "    <tr>\n",
       "        <th>id</th>\n",
       "        <th>name</th>\n",
       "    </tr>\n",
       "    <tr>\n",
       "        <td>1</td>\n",
       "        <td>asdf</td>\n",
       "    </tr>\n",
       "    <tr>\n",
       "        <td>2</td>\n",
       "        <td>qwer</td>\n",
       "    </tr>\n",
       "    <tr>\n",
       "        <td>3</td>\n",
       "        <td>zxcv</td>\n",
       "    </tr>\n",
       "</table>"
      ],
      "text/plain": [
       "[(1, 'asdf'), (2, 'qwer'), (3, 'zxcv')]"
      ]
     },
     "execution_count": 7,
     "metadata": {},
     "output_type": "execute_result"
    }
   ],
   "source": [
    "%%sql\n",
    "SELECT * FROM t1;"
   ]
  },
  {
   "cell_type": "markdown",
   "metadata": {},
   "source": [
    "## Running this locally\n",
    "\n",
    "I *highly* advise you do to perform any assignments requiring PostgreSQL on datanotebook.org.  It will be difficult for me to debug any of your local VMs during this period where I am missing office hours a few time.\n",
    "\n",
    "Even so, for those of you with an ubuntu VM, these steps should get you started:\n",
    "\n",
    "First, we add the official PostgreSQL build sources to the `apt` sources lists along with its key:\n",
    "\n",
    " * ```sudo echo \"deb http://apt.postgresql.org/pub/repos/apt/ jessie-pgdg main\" > /etc/apt/sources.list.d/postgresql.list```\n",
    " * ```wget --quiet -O - https://www.postgresql.org/media/keys/ACCC4CF8.asc \\\n",
    "    | sudo apt-key add -```\n",
    "    \n",
    "Next, refresh the package lists and install and restart PostgreSQL, configuring it to accept local connections:\n",
    "\n",
    " * ```sudo apt-get update```\n",
    " * ```sudo apt-get install postgresql-9.5 postgresql-client-9.5 libpq-dev```\n",
    " * ```echo \"local all all trust\" > /etc/postgresql/9.5/main/pg_hba.conf```\n",
    " * ```sudo service postgresql restart```\n",
    "\n",
    "Finally, switch to the user `postgres` to create a psql user:\n",
    "\n",
    " * ```sudo su postgres```\n",
    " * ```createuser --superuser dbuser```\n",
    " * ```exit```\n",
    "\n",
    "Add python support for pgsql and you might be all set:\n",
    "\n",
    " * ```conda install psycopg2```\n",
    " \n",
    "This *might* work for you.  If something goes wrong, search the web for your specific error message and you might be surprised at the quality of recommended fixes you'll find."
   ]
  }
 ],
 "metadata": {
  "kernelspec": {
   "display_name": "Python 3",
   "language": "python",
   "name": "python3"
  },
  "language_info": {
   "codemirror_mode": {
    "name": "ipython",
    "version": 3
   },
   "file_extension": ".py",
   "mimetype": "text/x-python",
   "name": "python",
   "nbconvert_exporter": "python",
   "pygments_lexer": "ipython3",
   "version": "3.5.2"
  }
 },
 "nbformat": 4,
 "nbformat_minor": 1
}
