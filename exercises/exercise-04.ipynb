{
 "cells": [
  {
   "cell_type": "markdown",
   "metadata": {},
   "source": [
    "# Exercise 04 - Due Friday, October 21 at 12pm\n",
    "\n",
    "*Objectives*: Gain experience loading a CSV dataset into a database model you define yourself and using SQL to explore its contents. Explore the data by writing and executing a number of SQL queries using common syntax and functions and describing your findings.\n",
    "\n",
    "*Grading criteria*: The tasks should all be completed, and questions should all be answered with SQL queries in the space provided, unless a text answer is requested. Results should be correct, according to the embedded tests. The notebook itself should be completely reproducible; from start to finish, another person should be able to use the same code to obtain the same results as yours.  Note that you will receive no more than partial credit if you do not add text/markdown cells explaining your thinking at each major step in each problem.\n",
    "\n",
    "*Deadline*: Friday, October 21, 12pm. Submit your notebook to Blackboard and push it to your GitHub repository.\n",
    "\n",
    "## Setup - obtain data and create database\n",
    "\n",
    "The US City Open Data Census has data on [restaurant inspections from all over the country](http://us-city.census.okfn.org/dataset/food-safety).  Let's take a look at data from Albuquerque.  *Note*: metadata and other details for this dataset are available at http://data.cabq.gov/business/foodinspections/.\n",
    "\n",
    "Fyi, to save you a step, I've converted this file into a clean CSV file by using the `dos2unix` command to change its line endings and to switch it to use commas instead of tabs using `csvformat -t inputfile.csv > outputfile.csv`.\n",
    "\n",
    "First we download the dataset:"
   ]
  },
  {
   "cell_type": "code",
   "execution_count": 1,
   "metadata": {
    "collapsed": false
   },
   "outputs": [
    {
     "name": "stdout",
     "output_type": "stream",
     "text": [
      "--2016-10-20 01:33:29--  https://raw.githubusercontent.com/gwsb-istm-6212-fall-2016/syllabus-and-schedule/master/exercises/abq-food-inspections-fy2010.csv\n",
      "Resolving raw.githubusercontent.com (raw.githubusercontent.com)... 151.101.32.133\n",
      "Connecting to raw.githubusercontent.com (raw.githubusercontent.com)|151.101.32.133|:443... connected.\n",
      "HTTP request sent, awaiting response... 200 OK\n",
      "Length: 5025226 (4.8M) [text/plain]\n",
      "Saving to: ‘abq-food-inspections-fy2010.csv’\n",
      "\n",
      "abq-food-inspection 100%[=====================>]   4.79M  --.-KB/s   in 0.06s  \n",
      "\n",
      "2016-10-20 01:33:29 (80.8 MB/s) - ‘abq-food-inspections-fy2010.csv’ saved [5025226/5025226]\n",
      "\n"
     ]
    }
   ],
   "source": [
    "!wget https://raw.githubusercontent.com/gwsb-istm-6212-fall-2016/syllabus-and-schedule/master/exercises/abq-food-inspections-fy2010.csv"
   ]
  },
  {
   "cell_type": "markdown",
   "metadata": {},
   "source": [
    "## Problem 1 - examine the data (35 points)\n",
    "\n",
    "Use `csvstat` and other tools as you see fit and observe its contents.  Review the metadata definitions linked to above.  Describe what you see:  What do all the columns mean?  Are there null values?  Which columns interest you the most?  Which columns present some complications or questions you would like to ask?"
   ]
  },
  {
   "cell_type": "markdown",
   "metadata": {},
   "source": [
    "Insert a combination of code and text/markdown cells here to review the data and describe what you find."
   ]
  },
  {
   "cell_type": "markdown",
   "metadata": {},
   "source": [
    "First, rename the csv to a something shorter and look at the attribute names.  From this, it seems that there are multiple different types of keys within the table, which we will explore next.  The word count shows that there are 17556 rows of data, since the 17557 figure includes the header row."
   ]
  },
  {
   "cell_type": "code",
   "execution_count": 3,
   "metadata": {
    "collapsed": false
   },
   "outputs": [
    {
     "name": "stdout",
     "output_type": "stream",
     "text": [
      "mv: cannot stat ‘abq-food-inspections-fy2010.csv’: No such file or directory\n",
      "  1: FACILITY_NAME\n",
      "  2: FACILITY_KEY\n",
      "  3: SITE_ADDRESS\n",
      "  4: CITY\n",
      "  5: STATE\n",
      "  6: ZIP\n",
      "  7: OWNER_KEY\n",
      "  8: OWNER_NAME\n",
      "  9: NATURE_OF_BUSINESS\n",
      " 10: STREET_NUMBER\n",
      " 11: STREET_NAME\n",
      " 12: STREET_TYPE\n",
      " 13: POST_DIRECTIONAL\n",
      " 14: PHONE\n",
      " 15: PROGRAM_CATEGORY\n",
      " 16: PROGRAM_CATEGORY_DESCRIPTION\n",
      " 17: INSPECTION_DATE\n",
      " 18: INSPECTION_TYPE\n",
      " 19: INSPECTION_DESC\n",
      " 20: SERIAL_NUM\n",
      " 21: ACTION_CODE\n",
      " 22: ACTION_DESC\n",
      " 23: RESULT_CODE\n",
      " 24: RESULT_DESC\n",
      " 25: VIOLATION_CODE\n",
      " 26: VIOLATION_DESC\n",
      " 27: INSPECTION_MEMO\n",
      "17557\n"
     ]
    }
   ],
   "source": [
    "!mv abq-food-inspections-fy2010.csv abq-2010.csv \n",
    "!csvcut -n abq-2010.csv\n",
    "!cat abq-2010.csv | wc -l"
   ]
  },
  {
   "cell_type": "markdown",
   "metadata": {},
   "source": [
    "Looking at the first 20 rows of data.  As the metadata suggests, most detailed level of data is facility inspection level."
   ]
  },
  {
   "cell_type": "code",
   "execution_count": 12,
   "metadata": {
    "collapsed": false
   },
   "outputs": [
    {
     "name": "stdout",
     "output_type": "stream",
     "text": [
      "|--------------------------+--------------------+---------------+-------------+-------------+-------------------|\n",
      "|  OWNER_NAME              | NATURE_OF_BUSINESS | STREET_NUMBER | STREET_NAME | STREET_TYPE | POST_DIRECTIONAL  |\n",
      "|--------------------------+--------------------+---------------+-------------+-------------+-------------------|\n",
      "|  OOBSAY IT WITH CAKE     | CAKE DECORATING    | 10200         | GOLF COURSE | RD          | NW                |\n",
      "|  OOBSAY IT WITH CAKE     | CAKE DECORATING    | 10200         | GOLF COURSE | RD          | NW                |\n",
      "|  OOBSAY IT WITH CAKE     | CAKE DECORATING    | 10200         | GOLF COURSE | RD          | NW                |\n",
      "|  OOBSAY IT WITH CAKE     | CAKE DECORATING    | 10200         | GOLF COURSE | RD          | NW                |\n",
      "|  OOBSAY IT WITH CAKE     | CAKE DECORATING    | 10200         | GOLF COURSE | RD          | NW                |\n",
      "|  2000 VIETMAN RESTAURANT | RESTAURANT         | 601           | SAN MATEO   | BLVD        | SE                |\n",
      "|  2000 VIETMAN RESTAURANT | RESTAURANT         | 601           | SAN MATEO   | BLVD        | SE                |\n",
      "|  2000 VIETMAN RESTAURANT | RESTAURANT         | 601           | SAN MATEO   | BLVD        | SE                |\n",
      "|  328 CHINESE CUISINE     |                    | 5617          | MENAUL      | BLVD        | NE                |\n",
      "|  328 CHINESE CUISINE     |                    | 5617          | MENAUL      | BLVD        | NE                |\n",
      "|  328 CHINESE CUISINE     |                    | 5617          | MENAUL      | BLVD        | NE                |\n",
      "|  328 CHINESE CUISINE     |                    | 5617          | MENAUL      | BLVD        | NE                |\n",
      "|  328 CHINESE CUISINE     |                    | 5617          | MENAUL      | BLVD        | NE                |\n",
      "|  5 STAR ABQ INC          | RESTAURANT         | 5901          | WYOMING     | BLVD        | NE                |\n",
      "|  5 STAR ABQ INC          | RESTAURANT         | 5901          | WYOMING     | BLVD        | NE                |\n",
      "|  5 STAR ABQ INC          | RESTAURANT         | 5901          | WYOMING     | BLVD        | NE                |\n",
      "|  66 DINER                | RESTAURANT         | 1405          | CENTRAL     | AV          | NE                |\n",
      "|  66 DINER                | RESTAURANT         | 1405          | CENTRAL     | AV          | NE                |\n",
      "|  66 DINER                | RESTAURANT         | 1405          | CENTRAL     | AV          | NE                |\n",
      "|--------------------------+--------------------+---------------+-------------+-------------+-------------------|\n",
      "|-------------+------------------+------------------------------+---------------------+------------------|\n",
      "|  PHONE      | PROGRAM_CATEGORY | PROGRAM_CATEGORY_DESCRIPTION | INSPECTION_DATE     | INSPECTION_TYPE  |\n",
      "|-------------+------------------+------------------------------+---------------------+------------------|\n",
      "|  5058339563 | 0405             | Food Processor               | 2009-10-21 00:00:00 |                  |\n",
      "|  5058339563 | 0405             | Food Processor               | 2009-10-21 00:00:00 |                  |\n",
      "|  5058339563 | 0405             | Food Processor               | 2009-10-21 00:00:00 |                  |\n",
      "|  5058339563 | 0405             | Food Processor               | 2010-04-14 00:00:00 |                  |\n",
      "|  5058339563 | 0405             | Food Processor               | 2010-04-14 00:00:00 |                  |\n",
      "|  5052320900 | 0406             | Food Service Establishment   | 2010-03-23 00:00:00 |                  |\n",
      "|  5052320900 | 0406             | Food Service Establishment   | 2010-03-23 00:00:00 |                  |\n",
      "|  5052320900 | 0406             | Food Service Establishment   | 2010-03-23 00:00:00 |                  |\n",
      "|  5058814468 | 0406             | Food Service Establishment   | 2009-12-15 00:00:00 |                  |\n",
      "|  5058814468 | 0406             | Food Service Establishment   | 2009-12-15 00:00:00 |                  |\n",
      "|  5058814468 | 0406             | Food Service Establishment   | 2009-12-15 00:00:00 |                  |\n",
      "|  5058814468 | 0406             | Food Service Establishment   | 2010-05-03 00:00:00 |                  |\n",
      "|  5058814468 | 0406             | Food Service Establishment   | 2010-05-03 00:00:00 |                  |\n",
      "|  5057643000 | 0406             | Food Service Establishment   | 2010-03-19 00:00:00 |                  |\n",
      "|  5057643000 | 0406             | Food Service Establishment   | 2010-06-01 00:00:00 |                  |\n",
      "|  5057643000 | 0406             | Food Service Establishment   | 2010-06-01 00:00:00 |                  |\n",
      "|  5052471421 | 0406             | Food Service Establishment   | 2009-11-06 00:00:00 |                  |\n",
      "|  5052471421 | 0406             | Food Service Establishment   | 2009-11-06 00:00:00 |                  |\n",
      "|  5052471421 | 0406             | Food Service Establishment   | 2009-11-06 00:00:00 |                  |\n",
      "|-------------+------------------+------------------------------+---------------------+------------------|\n",
      "|------------------------------+------------+-------------+-------------+--------------|\n",
      "|  INSPECTION_DESC             | SERIAL_NUM | ACTION_CODE | ACTION_DESC | RESULT_CODE  |\n",
      "|------------------------------+------------+-------------+-------------+--------------|\n",
      "|  EMERGENCY RESPONSE          | DA8009125  | 00          | NON-GRADED  | 00           |\n",
      "|  ROUTINE FOOD INSPECTION     | DA8009123  | 11          | APPROVED    | 03           |\n",
      "|  ROUTINE FOOD INSPECTION     | DA8009123  | 11          | APPROVED    | 03           |\n",
      "|  ROUTINE FOOD INSPECTION     | DA8010205  | 11          | APPROVED    | 03           |\n",
      "|  ROUTINE FOOD INSPECTION     | DA8010205  | 11          | APPROVED    | 03           |\n",
      "|  ROUTINE FOOD INSPECTION     | DA8509472  | 11          | APPROVED    | 03           |\n",
      "|  ROUTINE FOOD INSPECTION     | DA8509472  | 11          | APPROVED    | 03           |\n",
      "|  ROUTINE FOOD INSPECTION     | DA8509472  | 11          | APPROVED    | 03           |\n",
      "|  EMERGENCY RESPONSE          | DA7757250  | 00          | NON-GRADED  | 00           |\n",
      "|  ROUTINE FOOD INSPECTION     | DA7757248  | 11          | APPROVED    | 03           |\n",
      "|  ROUTINE FOOD INSPECTION     | DA7757248  | 11          | APPROVED    | 03           |\n",
      "|  ROUTINE FOOD INSPECTION     | DA7758349  | 11          | APPROVED    | 03           |\n",
      "|  ROUTINE FOOD INSPECTION     | DA7758349  | 11          | APPROVED    | 03           |\n",
      "|  PRE-OPENING FOOD INSPECTION | DA0043259  | 11          | APPROVED    | 03           |\n",
      "|  New Business Inspection     | DA7508249  | 11          | APPROVED    | 03           |\n",
      "|  New Business Inspection     | DA7508249  | 11          | APPROVED    | 03           |\n",
      "|  EMERGENCY RESPONSE          | DA8508538  | 00          | NON-GRADED  | 00           |\n",
      "|  ROUTINE FOOD INSPECTION     | DA8508536  | 11          | APPROVED    | 03           |\n",
      "|  ROUTINE FOOD INSPECTION     | DA8508536  | 11          | APPROVED    | 03           |\n",
      "|------------------------------+------------+-------------+-------------+--------------|\n",
      "|-----------------+----------------+----------------------------------+------------------|\n",
      "|  RESULT_DESC    | VIOLATION_CODE | VIOLATION_DESC                   | INSPECTION_MEMO  |\n",
      "|-----------------+----------------+----------------------------------+------------------|\n",
      "|  NOT APPLICABLE |     68         | Delivered Informational Brochure |                  |\n",
      "|  IN COMPLIANCE  |     00         | No Violations Found              |                  |\n",
      "|  IN COMPLIANCE  |     55         | Additional Comments              |                  |\n",
      "|  IN COMPLIANCE  |     00         | No Violations Found              |                  |\n",
      "|  IN COMPLIANCE  |     55         | Additional Comments              |                  |\n",
      "|  IN COMPLIANCE  |     34         | Food contact surfaces            |                  |\n",
      "|  IN COMPLIANCE  |     35         | Non-Food contact surfaces        |                  |\n",
      "|  IN COMPLIANCE  |     55         | Additional Comments              |                  |\n",
      "|  NOT APPLICABLE |     68         | Delivered Informational Brochure |                  |\n",
      "|  IN COMPLIANCE  |     00         | No Violations Found              |                  |\n",
      "|  IN COMPLIANCE  |     55         | Additional Comments              |                  |\n",
      "|  IN COMPLIANCE  |     00         | No Violations Found              |                  |\n",
      "|  IN COMPLIANCE  |     55         | Additional Comments              |                  |\n",
      "|  IN COMPLIANCE  |                |                                  |                  |\n",
      "|  IN COMPLIANCE  |     00         | No Violations Found              |                  |\n",
      "|  IN COMPLIANCE  |     55         | Additional Comments              |                  |\n",
      "|  NOT APPLICABLE |     68         | Delivered Informational Brochure |                  |\n",
      "|  IN COMPLIANCE  |     00         | No Violations Found              |                  |\n",
      "|  IN COMPLIANCE  |     55         | Additional Comments              |                  |\n",
      "|-----------------+----------------+----------------------------------+------------------|\n"
     ]
    }
   ],
   "source": [
    "!head -20 abq-2010.csv | csvcut -c8,9,10,11,12,13 | csvlook\n",
    "!head -20 abq-2010.csv | csvcut -c14,15,16,17,18 | csvlook\n",
    "!head -20 abq-2010.csv | csvcut -c19,20,21,22,23 | csvlook\n",
    "!head -20 abq-2010.csv | csvcut -c24,25,26,27 | csvlook"
   ]
  },
  {
   "cell_type": "markdown",
   "metadata": {},
   "source": [
    "To get a better grasp of the dimensions of the table, let's look at one facility called Cake Fetish. I chose this particular restaurant, because it provides a nice initial look at the dimensions.  As we can see below, each facility name can have multiple facility keys, with different associated location information and nature of business.  Facility names have the same program codes and and program categories.  Each facility key has multiple inspections.  Now we have a better idea of what the columns mean, and what we can expect when running csvstat. It is also worth noting that there are some null values for inspection memo and inpection type.  "
   ]
  },
  {
   "cell_type": "code",
   "execution_count": 7,
   "metadata": {
    "collapsed": false
   },
   "outputs": [
    {
     "name": "stdout",
     "output_type": "stream",
     "text": [
      "|------------------+--------------+-------------------------+-------------+-------+--------|\n",
      "|  FACILITY_NAME   | FACILITY_KEY | SITE_ADDRESS            | CITY        | STATE | ZIP    |\n",
      "|------------------+--------------+-------------------------+-------------+-------+--------|\n",
      "|  OOB CAKE FETISH | 76851        | 2665 LOUISIANA BLVD NE  | ALBUQUERQUE | NM    | 87110  |\n",
      "|  OOB CAKE FETISH | 76851        | 2665 LOUISIANA BLVD NE  | ALBUQUERQUE | NM    | 87110  |\n",
      "|  OOB CAKE FETISH | 76851        | 2665 LOUISIANA BLVD NE  | ALBUQUERQUE | NM    | 87110  |\n",
      "|  OOB CAKE FETISH | 82866        | 6200 COORS BLVD NW      | ALBUQUERQUE | NM    | 87120  |\n",
      "|  OOB CAKE FETISH | 82866        | 6200 COORS BLVD NW      | ALBUQUERQUE | NM    | 87120  |\n",
      "|  OOB CAKE FETISH | 82866        | 6200 COORS BLVD NW      | ALBUQUERQUE | NM    | 87120  |\n",
      "|  OOB CAKE FETISH | 82866        | 6200 COORS BLVD NW      | ALBUQUERQUE | NM    | 87120  |\n",
      "|------------------+--------------+-------------------------+-------------+-------+--------|\n",
      "|------------------+-----------+------------------------------+---------------------+---------------+--------------|\n",
      "|  FACILITY_NAME   | OWNER_KEY | OWNER_NAME                   | NATURE_OF_BUSINESS  | STREET_NUMBER | STREET_NAME  |\n",
      "|------------------+-----------+------------------------------+---------------------+---------------+--------------|\n",
      "|  OOB CAKE FETISH | 17006     | DESERT HILLS ENTERPRISES INC | BAKERY              | 2665          | LOUISIANA    |\n",
      "|  OOB CAKE FETISH | 17006     | DESERT HILLS ENTERPRISES INC | BAKERY              | 2665          | LOUISIANA    |\n",
      "|  OOB CAKE FETISH | 17006     | DESERT HILLS ENTERPRISES INC | BAKERY              | 2665          | LOUISIANA    |\n",
      "|  OOB CAKE FETISH | 17006     | DESERT HILLS ENTERPRISES INC | RETAIL PRE-PACKAGED | 6200          | COORS        |\n",
      "|  OOB CAKE FETISH | 17006     | DESERT HILLS ENTERPRISES INC | RETAIL PRE-PACKAGED | 6200          | COORS        |\n",
      "|  OOB CAKE FETISH | 17006     | DESERT HILLS ENTERPRISES INC | RETAIL PRE-PACKAGED | 6200          | COORS        |\n",
      "|  OOB CAKE FETISH | 17006     | DESERT HILLS ENTERPRISES INC | RETAIL PRE-PACKAGED | 6200          | COORS        |\n",
      "|------------------+-----------+------------------------------+---------------------+---------------+--------------|\n",
      "|------------------+-------------+------------------+-------------|\n",
      "|  FACILITY_NAME   | STREET_TYPE | POST_DIRECTIONAL | PHONE       |\n",
      "|------------------+-------------+------------------+-------------|\n",
      "|  OOB CAKE FETISH | BLVD        | NE               | 5058830670  |\n",
      "|  OOB CAKE FETISH | BLVD        | NE               | 5058830670  |\n",
      "|  OOB CAKE FETISH | BLVD        | NE               | 5058830670  |\n",
      "|  OOB CAKE FETISH | BLVD        | NW               | 5058992425  |\n",
      "|  OOB CAKE FETISH | BLVD        | NW               | 5058992425  |\n",
      "|  OOB CAKE FETISH | BLVD        | NW               | 5058992425  |\n",
      "|  OOB CAKE FETISH | BLVD        | NW               | 5058992425  |\n",
      "|------------------+-------------+------------------+-------------|\n",
      "|------------------+------------------+------------------------------+---------------------+------------------|\n",
      "|  FACILITY_NAME   | PROGRAM_CATEGORY | PROGRAM_CATEGORY_DESCRIPTION | INSPECTION_DATE     | INSPECTION_TYPE  |\n",
      "|------------------+------------------+------------------------------+---------------------+------------------|\n",
      "|  OOB CAKE FETISH | 0403             | Bakery                       | 2009-10-12 00:00:00 |                  |\n",
      "|  OOB CAKE FETISH | 0403             | Bakery                       | 2009-10-12 00:00:00 |                  |\n",
      "|  OOB CAKE FETISH | 0403             | Bakery                       | 2009-10-12 00:00:00 |                  |\n",
      "|  OOB CAKE FETISH | 0403             | Bakery                       | 2009-07-15 00:00:00 |                  |\n",
      "|  OOB CAKE FETISH | 0403             | Bakery                       | 2009-07-15 00:00:00 |                  |\n",
      "|  OOB CAKE FETISH | 0403             | Bakery                       | 2010-02-10 00:00:00 |                  |\n",
      "|  OOB CAKE FETISH | 0403             | Bakery                       | 2010-02-10 00:00:00 |                  |\n",
      "|------------------+------------------+------------------------------+---------------------+------------------|\n",
      "|------------------+-------------------------+------------+-------------+--------------|\n",
      "|  FACILITY_NAME   | INSPECTION_DESC         | SERIAL_NUM | ACTION_CODE | ACTION_DESC  |\n",
      "|------------------+-------------------------+------------+-------------+--------------|\n",
      "|  OOB CAKE FETISH | EMERGENCY RESPONSE      | DA7756487  | 00          | NON-GRADED   |\n",
      "|  OOB CAKE FETISH | ROUTINE FOOD INSPECTION | DA7756486  | 11          | APPROVED     |\n",
      "|  OOB CAKE FETISH | ROUTINE FOOD INSPECTION | DA7756486  | 11          | APPROVED     |\n",
      "|  OOB CAKE FETISH | ROUTINE FOOD INSPECTION | DA8008237  | 11          | APPROVED     |\n",
      "|  OOB CAKE FETISH | ROUTINE FOOD INSPECTION | DA8008237  | 11          | APPROVED     |\n",
      "|  OOB CAKE FETISH | ROUTINE FOOD INSPECTION | DA8009903  | 11          | APPROVED     |\n",
      "|  OOB CAKE FETISH | ROUTINE FOOD INSPECTION | DA8009903  | 11          | APPROVED     |\n",
      "|------------------+-------------------------+------------+-------------+--------------|\n",
      "|------------------+-------------+----------------+----------------------------------+------------------|\n",
      "|  FACILITY_NAME   | RESULT_CODE | VIOLATION_CODE | VIOLATION_DESC                   | INSPECTION_MEMO  |\n",
      "|------------------+-------------+----------------+----------------------------------+------------------|\n",
      "|  OOB CAKE FETISH | 00          |     68         | Delivered Informational Brochure |                  |\n",
      "|  OOB CAKE FETISH | 03          |     00         | No Violations Found              |                  |\n",
      "|  OOB CAKE FETISH | 03          |     55         | Additional Comments              |                  |\n",
      "|  OOB CAKE FETISH | 03          |     00         | No Violations Found              |                  |\n",
      "|  OOB CAKE FETISH | 03          |     55         | Additional Comments              |                  |\n",
      "|  OOB CAKE FETISH | 03          |     00         | No Violations Found              |                  |\n",
      "|  OOB CAKE FETISH | 03          |     55         | Additional Comments              |                  |\n",
      "|------------------+-------------+----------------+----------------------------------+------------------|\n"
     ]
    }
   ],
   "source": [
    "!cat abq-2010.csv | csvcut -c1,2,3,4,5,6 | csvgrep -c1 -m \"OOB CAKE FETISH\" |csvlook\n",
    "!cat abq-2010.csv | csvcut -c1,7,8,9,10,11| csvgrep -c1 -m \"OOB CAKE FETISH\"| csvlook\n",
    "!cat abq-2010.csv | csvcut -c1,12,13,14| csvgrep -c1 -m \"OOB CAKE FETISH\"| csvlook\n",
    "!cat abq-2010.csv | csvcut -c1,15,16,17,18| csvgrep -c1 -m \"OOB CAKE FETISH\"| csvlook\n",
    "!cat abq-2010.csv | csvcut -c1,19,20,21,22| csvgrep -c1 -m \"OOB CAKE FETISH\"| csvlook\n",
    "!cat abq-2010.csv | csvcut -c1,23,25,26,27| csvgrep -c1 -m \"OOB CAKE FETISH\"| csvlook\n"
   ]
  },
  {
   "cell_type": "markdown",
   "metadata": {},
   "source": [
    "Next, look at the dataset using csvlook."
   ]
  },
  {
   "cell_type": "markdown",
   "metadata": {},
   "source": [
    "Below shows the summary statistics for the columns which provide some insight to the dimensions of the dataset and also the amount of different levels in each of the categorical attributes.  These columns include Facility Name,  Facility Key, Owner Name, Program Category Description, Inspection date, Inspection type, Inspection Description,  Action Description, Result Description, and Violation Description.  Most of the attribute names are intuitive, but this look is helpful to confirm what they represent.  Of these attributes, Program Category Description, Inspection Type, and Violation Description contain null values.  From this output, it seems that the entire Inspection Description column is null, which means it is useless to our analysis. There are 2615 unique Facility Names, but 2835 unique Facility Keys, which means that a Facility Name can have more than one key.  We will look at the details of this in a preceeding cell.  The most frequent facilities to get inspected are Smiths Food and Drug Centers, Inc., Isotopes Park - Ovations, Per EHSII Cecelia Garcia OOB La Reyna Del Sur, Isleta Amphitheater, and Echo Inc.  There are slighlty less levels for Owner Names, which we would expect.  Therefore Owners can own multiple facilities.  There are 24 different program categories, most of which are classified as \"Food Service Establishment.\"  This dataset is from 2010, and is updated daily as per the metadata.  This particular set of restaurant inspections ranges from 7/1/2009 through 6/30/2010.  As per the inspection description types, there are 15 different types.  From the 5 most frequent, it is seen that some levels of this attribute are upper case and some are mixed case.  This is important to keep in mind when combining data and could present an issue going forward.  As expected, most inpsections are \"Routine.\"  There are 8 unique values for Action Description.  Most are approved or ungraded.  A very small amount seem to be considered \"Unsatisfactory.\"  The next column is Result Description.  The difference between this column and the action column is intuitive--one shows the results and one shows the action.  From the differences in counts, it is shown that more are found to be in compliance than actually are approved in result of the inspection. Also, more are deemed unsatisfactory than result in a \"Downgrade\" from the inspection. For the Violation Description column, there are 70 unique values.  Most violations are classified as \"additional comments\" which may not be greatly helpful in our analysis.\n"
   ]
  },
  {
   "cell_type": "code",
   "execution_count": 34,
   "metadata": {
    "collapsed": false,
    "scrolled": true
   },
   "outputs": [
    {
     "name": "stdout",
     "output_type": "stream",
     "text": [
      "  1. FACILITY_NAME\n",
      "\t<class 'str'>\n",
      "\tNulls: False\n",
      "\tUnique values: 2615\n",
      "\t5 most frequent values:\n",
      "\t\tSMITHS FOOD AND DRUG CENTERS INC:\t154\n",
      "\t\tISOTOPES PARK - OVATIONS:\t93\n",
      "\t\tPER EHSII CECELIA GARCIA OOB LA REYNA DEL SUR:\t85\n",
      "\t\tISLETA AMPHITHEATER:\t68\n",
      "\t\tECHO INC:\t68\n",
      "\tMax length: 77\n",
      "  2. FACILITY_KEY\n",
      "\t<class 'int'>\n",
      "\tNulls: False\n",
      "\tMin: 13\n",
      "\tMax: 101482\n",
      "\tSum: 820405773\n",
      "\tMean: 46730.79135338346\n",
      "\tMedian: 50866.0\n",
      "\tStandard Deviation: 32659.794578837962\n",
      "\tUnique values: 2835\n",
      "\t5 most frequent values:\n",
      "\t\t46323:\t93\n",
      "\t\t65863:\t85\n",
      "\t\t32817:\t68\n",
      "\t\t80949:\t68\n",
      "\t\t91825:\t66\n",
      "  3. OWNER_NAME\n",
      "\t<class 'str'>\n",
      "\tNulls: False\n",
      "\tUnique values: 1852\n",
      "\t5 most frequent values:\n",
      "\t\tAPS:\t792\n",
      "\t\tSMITHS FOOD AND DRUG CENTERS INC:\t321\n",
      "\t\tCIRCLE K STORES INC:\t277\n",
      "\t\tALBERTSONS:\t228\n",
      "\t\tWAL MART STORES EAST  LP:\t156\n",
      "\tMax length: 82\n",
      "  4. PROGRAM_CATEGORY_DESCRIPTION\n",
      "\t<class 'str'>\n",
      "\tNulls: True\n",
      "\tUnique values: 24\n",
      "\t5 most frequent values:\n",
      "\t\tFood Service Establishment:\t7969\n",
      "\t\tRetail -Grocery:\t1159\n",
      "\t\tRetail - Self Service & Prepackage Foods:\t894\n",
      "\t\tRetail - Prepackage Only:\t865\n",
      "\t\tSchool:\t832\n",
      "\tMax length: 40\n",
      "  5. INSPECTION_DATE\n",
      "\t<class 'datetime.date'>\n",
      "\tNulls: False\n",
      "\tMin: 2009-07-01\n",
      "\tMax: 2010-06-30\n",
      "\tUnique values: 258\n",
      "\t5 most frequent values:\n",
      "\t\t2009-12-16:\t184\n",
      "\t\t2009-09-10:\t159\n",
      "\t\t2009-09-25:\t148\n",
      "\t\t2009-11-04:\t133\n",
      "\t\t2009-10-01:\t131\n",
      "  6. INSPECTION_TYPE\n",
      "\t<class 'NoneType'>\n",
      "\tNulls: True\n",
      "\tValues: \n",
      "  7. INSPECTION_DESC\n",
      "\t<class 'str'>\n",
      "\tNulls: False\n",
      "\tUnique values: 15\n",
      "\t5 most frequent values:\n",
      "\t\tROUTINE FOOD INSPECTION:\t12439\n",
      "\t\tEMERGENCY RESPONSE:\t1987\n",
      "\t\tNew Business Inspection:\t1005\n",
      "\t\tPRE-OPENING FOOD INSPECTION:\t743\n",
      "\t\tADDITIONAL SERVICE PROVIDED:\t439\n",
      "\tMax length: 32\n",
      "  8. ACTION_DESC\n",
      "\t<class 'str'>\n",
      "\tNulls: False\n",
      "\tUnique values: 8\n",
      "\t5 most frequent values:\n",
      "\t\tAPPROVED:\t14080\n",
      "\t\tNON-GRADED:\t2800\n",
      "\t\tANNUAL STICKER ISSUED:\t382\n",
      "\t\tUNSATISFACTORY:\t264\n",
      "\t\tANNUAL STICKER NOT ISSUED:\t21\n",
      "\tMax length: 34\n",
      "  9. RESULT_DESC\n",
      "\t<class 'str'>\n",
      "\tNulls: False\n",
      "\tUnique values: 19\n",
      "\t5 most frequent values:\n",
      "\t\tIN COMPLIANCE:\t14389\n",
      "\t\tNOT APPLICABLE:\t2416\n",
      "\t\tDOWNGRADE:\t214\n",
      "\t\tOUT OF BUSINESS:\t142\n",
      "\t\tTRAINING RECEIVED:\t104\n",
      "\tMax length: 37\n",
      " 10. VIOLATION_DESC\n",
      "\t<class 'str'>\n",
      "\tNulls: True\n",
      "\tUnique values: 70\n",
      "\t5 most frequent values:\n",
      "\t\tAdditional Comments:\t6353\n",
      "\t\tNo Violations Found:\t3434\n",
      "\t\tDelivered Informational Brochure:\t1657\n",
      "\t\tPlumbing: Improperly installed/maintained/supplied:\t492\n",
      "\t\tNon-Food contact surfaces:\t446\n",
      "\tMax length: 50\n",
      "\n",
      "Row count: 17556\n"
     ]
    }
   ],
   "source": [
    "!cat abq-2010.csv | csvcut -c1,2,8,16,17,18,19,22,24,26 | csvstat"
   ]
  },
  {
   "cell_type": "markdown",
   "metadata": {},
   "source": [
    "The statistics for the remaining fields are shown in the output below.   Columns which contain null values are site address, Nature of Business, address information, phone number, violation codes, and inspection memo all contain null values.  Like Inspection Description, the entire column is null, so it is useless in analysis. Other columns which are useless are City and State, since this is Albuquerque only data.  It seems that there is some sort of data issue with the state field anyway.  There are 48 different zip codes for the inspection locations in this dataset. There are 1892 unique owner values, which is slightly above the number of unique owner names.  Nature of Business category is similar to the Program Category Description, but has more levels.  We will look at this in a few cells.  Many of the facilities being inspected are located on Central Street.  None of the keys or codes have null values besides violation code. The levels generally match the corresponding descriptions.  Serial Number is a unique ID for inspection daily activity. It counts the number of inspections each Owner_ID taking into account if there are multiple inspections in one day.  It should be viewed at the Owner_ID and Inspection_Date level."
   ]
  },
  {
   "cell_type": "code",
   "execution_count": 33,
   "metadata": {
    "collapsed": false
   },
   "outputs": [
    {
     "name": "stdout",
     "output_type": "stream",
     "text": [
      "  1. SITE_ADDRESS\n",
      "\t<class 'str'>\n",
      "\tNulls: True\n",
      "\tUnique values: 2456\n",
      "\t5 most frequent values:\n",
      "\t\t1601 AVENIDA CESAR CHAVEZ SE:\t94\n",
      "\t\t644 OLD COORS BLVD SW:\t85\n",
      "\t\t8601 CENTRAL AV NE:\t77\n",
      "\t\t2200 SUNPORT BLVD SE:\t75\n",
      "\t\t5210 CENTRAL AV SE:\t73\n",
      "\tMax length: 35\n",
      "  2. CITY\n",
      "\t<class 'str'>\n",
      "\tNulls: False\n",
      "\tValues: ALBUQUERQUE\n",
      "  3. STATE\n",
      "\t<class 'str'>\n",
      "\tNulls: False\n",
      "\tValues: NM, 87\n",
      "  4. ZIP\n",
      "\t<class 'str'>\n",
      "\tNulls: False\n",
      "\tUnique values: 48\n",
      "\t5 most frequent values:\n",
      "\t\t87110:\t1996\n",
      "\t\t87108:\t1976\n",
      "\t\t87102:\t1601\n",
      "\t\t87106:\t1568\n",
      "\t\t87109:\t1552\n",
      "\tMax length: 10\n",
      "  5. OWNER_KEY\n",
      "\t<class 'int'>\n",
      "\tNulls: False\n",
      "\tMin: 11\n",
      "\tMax: 87302\n",
      "\tSum: 644760848\n",
      "\tMean: 36725.953975848715\n",
      "\tMedian: 33747.0\n",
      "\tStandard Deviation: 29428.207216739836\n",
      "\tUnique values: 1892\n",
      "\t5 most frequent values:\n",
      "\t\t1838:\t792\n",
      "\t\t3537:\t321\n",
      "\t\t1272:\t228\n",
      "\t\t36280:\t156\n",
      "\t\t80274:\t155\n",
      "  6. NATURE_OF_BUSINESS\n",
      "\t<class 'str'>\n",
      "\tNulls: True\n",
      "\tUnique values: 594\n",
      "\t5 most frequent values:\n",
      "\t\tRESTAURANT:\t4994\n",
      "\t\tFOOD SERVICE:\t691\n",
      "\t\tGROCERY:\t618\n",
      "\t\tBAR/RESTAURANT:\t508\n",
      "\t\tAPS SCHOOL FOOD SERVICE:\t470\n",
      "\tMax length: 25\n",
      "  7. STREET_NUMBER\n",
      "\t<class 'str'>\n",
      "\tNulls: True\n",
      "\tUnique values: 1349\n",
      "\t5 most frequent values:\n",
      "\t\t6600:\t216\n",
      "\t\t10000:\t152\n",
      "\t\t300:\t143\n",
      "\t\t2200:\t127\n",
      "\t\t8100:\t125\n",
      "\tMax length: 7\n",
      "  8. STREET_NAME\n",
      "\t<class 'str'>\n",
      "\tNulls: True\n",
      "\tUnique values: 404\n",
      "\t5 most frequent values:\n",
      "\t\tCENTRAL:\t1898\n",
      "\t\tMENAUL:\t928\n",
      "\t\tCOORS:\t918\n",
      "\t\tMONTGOMERY:\t727\n",
      "\t\tSAN MATEO:\t707\n",
      "\tMax length: 24\n",
      "  9. STREET_TYPE\n",
      "\t<class 'str'>\n",
      "\tNulls: True\n",
      "\tUnique values: 13\n",
      "\t5 most frequent values:\n",
      "\t\tBLVD:\t7636\n",
      "\t\tAV:\t3005\n",
      "\t\tST:\t2065\n",
      "\t\tRD:\t1900\n",
      "\t\tDR:\t995\n",
      "\tMax length: 4\n",
      " 10. POST_DIRECTIONAL\n",
      "\t<class 'str'>\n",
      "\tNulls: True\n",
      "\tValues: NW, NE, SE, SW, N\n",
      " 11. PHONE\n",
      "\t<class 'int'>\n",
      "\tNulls: True\n",
      "\tMin: 2471094\n",
      "\tMax: 505345566137310\n",
      "\tSum: 2608539289633190\n",
      "\tMean: 161719732773.29138\n",
      "\tMedian: 5053454060.0\n",
      "\tStandard Deviation: 8895791545525.992\n",
      "\tUnique values: 2279\n",
      "\t5 most frequent values:\n",
      "\t\t9153321301:\t101\n",
      "\t\t3037929467:\t100\n",
      "\t\t5052224033:\t94\n",
      "\t\t3109680646:\t85\n",
      "\t\t2122383000:\t68\n",
      " 12. PROGRAM_CATEGORY\n",
      "\t<class 'str'>\n",
      "\tNulls: False\n",
      "\tUnique values: 25\n",
      "\t5 most frequent values:\n",
      "\t\t0406:\t7969\n",
      "\t\t0601:\t1159\n",
      "\t\t0607:\t894\n",
      "\t\t0606:\t865\n",
      "\t\t0408:\t832\n",
      "\tMax length: 4\n",
      " 13. SERIAL_NUM\n",
      "\t<class 'str'>\n",
      "\tNulls: False\n",
      "\tUnique values: 9046\n",
      "\t5 most frequent values:\n",
      "\t\tDA0045676:\t61\n",
      "\t\tDA0045731:\t61\n",
      "\t\tDA0059230:\t61\n",
      "\t\tDA0047290:\t61\n",
      "\t\tDA0047720:\t61\n",
      "\tMax length: 9\n",
      " 14. ACTION_CODE\n",
      "\t<class 'str'>\n",
      "\tNulls: False\n",
      "\tUnique values: 8\n",
      "\t5 most frequent values:\n",
      "\t\t11:\t14080\n",
      "\t\t00:\t2800\n",
      "\t\t09:\t382\n",
      "\t\t06:\t264\n",
      "\t\t10:\t21\n",
      "\tMax length: 2\n",
      " 15. RESULT_CODE\n",
      "\t<class 'str'>\n",
      "\tNulls: False\n",
      "\tUnique values: 19\n",
      "\t5 most frequent values:\n",
      "\t\t03:\t14389\n",
      "\t\t00:\t2416\n",
      "\t\t05:\t214\n",
      "\t\t22:\t142\n",
      "\t\t18:\t104\n",
      "\tMax length: 2\n",
      " 16. VIOLATION_CODE\n",
      "\t<class 'str'>\n",
      "\tNulls: True\n",
      "\tUnique values: 128\n",
      "\t5 most frequent values:\n",
      "\t\t55:\t6348\n",
      "\t\t00:\t3429\n",
      "\t\t68:\t1658\n",
      "\t\t42:\t487\n",
      "\t\t35:\t441\n",
      "\tMax length: 10\n",
      " 17. VIOLATION_DESC\n",
      "\t<class 'str'>\n",
      "\tNulls: True\n",
      "\tUnique values: 70\n",
      "\t5 most frequent values:\n",
      "\t\tAdditional Comments:\t6353\n",
      "\t\tNo Violations Found:\t3434\n",
      "\t\tDelivered Informational Brochure:\t1657\n",
      "\t\tPlumbing: Improperly installed/maintained/supplied:\t492\n",
      "\t\tNon-Food contact surfaces:\t446\n",
      "\tMax length: 50\n",
      " 18. INSPECTION_MEMO\n",
      "\t<class 'NoneType'>\n",
      "\tNulls: True\n",
      "\tValues: \n",
      "\n",
      "Row count: 17556\n"
     ]
    }
   ],
   "source": [
    "!cat abq-2010.csv | csvcut -c3,4,5,6,7,9,10,11,12,13,14,15,20,21,23,25,27 | csvstat"
   ]
  },
  {
   "cell_type": "markdown",
   "metadata": {},
   "source": [
    "It seemed odd that there was the string \"OOB\" in some of the output we have seen thus far.  In grep-ing those facility names which contained this string, it is seen that in some cases, there are facility names including \"OOB\" and also ones without the string.  Additionally, there are cases when the same store has multiple Facility Names with a string of numbers attached. Therefore, when aggregating data, the Facility Name column may not be the most reliable.  It is better to use Owner Name or Facility Key, or LIKE should be used."
   ]
  },
  {
   "cell_type": "code",
   "execution_count": 24,
   "metadata": {
    "collapsed": false
   },
   "outputs": [
    {
     "name": "stdout",
     "output_type": "stream",
     "text": [
      "|--------------------------------+--------------+-------------------------|\n",
      "|        1 FACILITY_NAME         | FACILITY_KEY | OWNER_NAME              |\n",
      "|--------------------------------+--------------+-------------------------|\n",
      "|        1 DOLLAR TREE 2653      | 93470        | DOLLAR TREE STORES INC  |\n",
      "|        4 DOLLAR TREE 2654      | 33072        | DOLLAR TREE STORES INC  |\n",
      "|        5 DOLLAR TREE 2661      | 81403        | DOLLAR TREE STORES INC  |\n",
      "|        5 DOLLAR TREE 2664      | 33074        | DOLLAR TREE STORES INC  |\n",
      "|        6 DOLLAR TREE 2689      | 52031        | DOLLAR TREE STORES INC  |\n",
      "|        5 DOLLAR TREE 2745      | 52146        | DOLLAR TREE STORES INC  |\n",
      "|        5 DOLLAR TREE 2851      | 55339        | DOLLAR TREE STORES INC  |\n",
      "|        6 DOLLAR TREE 2967      | 58026        | DOLLAR TREE STORES INC  |\n",
      "|        5 DOLLAR TREE 3702      | 76579        | DOLLAR TREE STORES INC  |\n",
      "|        4 DOLLAR TREE 3800      | 80529        | DOLLAR TREE STORES INC  |\n",
      "|        5 DOLLAR TREE 3892      | 80528        | DOLLAR TREE STORES INC  |\n",
      "|        4 DOLLAR TREE 4182      | 89144        | DOLLAR TREE STORES INC  |\n",
      "|       10 OOB DOLLAR TREE #2653 | 52028        | DOLLAR TREE STORES INC  |\n",
      "|--------------------------------+--------------+-------------------------|\n",
      "|-------------------------+--------------+-------------------|\n",
      "|        1 FACILITY_NAME  | FACILITY_KEY | OWNER_NAME        |\n",
      "|-------------------------+--------------+-------------------|\n",
      "|        4 7 ELEVEN       | 21347        | SCS BEVERAGE INC  |\n",
      "|        7 7 ELEVEN 57722 | 21346        | SCS BEVERAGE INC  |\n",
      "|        5 7 ELEVEN 700   | 21348        | SCS BEVERAGE INC  |\n",
      "|        5 7 ELEVEN 702   | 21350        | SCS BEVERAGE INC  |\n",
      "|        5 7 ELEVEN 703   | 21349        | SCS BEVERAGE INC  |\n",
      "|        5 7 ELEVEN 704   | 21351        | SCS BEVERAGE INC  |\n",
      "|       11 7 ELEVEN 705   | 21352        | SCS BEVERAGE INC  |\n",
      "|        5 7 ELEVEN 706   | 21353        | SCS BEVERAGE INC  |\n",
      "|        6 7 ELEVEN 707   | 21354        | SCS BEVERAGE INC  |\n",
      "|       11 7 ELEVEN 708   | 21355        | SCS BEVERAGE INC  |\n",
      "|        6 7 ELEVEN 709   | 21367        | SCS BEVERAGE INC  |\n",
      "|       11 7 ELEVEN 710   | 21356        | SCS BEVERAGE INC  |\n",
      "|        4 7 ELEVEN 711   | 21358        | SCS BEVERAGE INC  |\n",
      "|       10 7 ELEVEN 712   | 21357        | SCS BEVERAGE INC  |\n",
      "|        4 7 ELEVEN 713   | 21359        | SCS BEVERAGE INC  |\n",
      "|        6 7 ELEVEN 714   | 21361        | SCS BEVERAGE INC  |\n",
      "|        6 7 ELEVEN 715   | 21360        | SCS BEVERAGE INC  |\n",
      "|        5 7 ELEVEN 716   | 21362        | SCS BEVERAGE INC  |\n",
      "|        6 7 ELEVEN 717   | 21364        | SCS BEVERAGE INC  |\n",
      "|        6 7 ELEVEN 718   | 21363        | SCS BEVERAGE INC  |\n",
      "|        5 7 ELEVEN 719   | 21365        | SCS BEVERAGE INC  |\n",
      "|        5 7 ELEVEN 720   | 21366        | SCS BEVERAGE INC  |\n",
      "|-------------------------+--------------+-------------------|\n"
     ]
    }
   ],
   "source": [
    "!cat abq-2010.csv | csvcut -c1,2,8 | csvgrep -c1 -m \"DOLLAR TREE\" | csvsort -c1 | uniq -c | csvlook\n",
    "!cat abq-2010.csv | csvcut -c1,2,8| csvgrep -c1 -m \"7 ELEVEN\" |  csvsort -c1 | uniq -c | csvlook\n"
   ]
  },
  {
   "cell_type": "markdown",
   "metadata": {},
   "source": [
    "Below is an output of all of the different program category descriptions.  It would be interesting to compare the inspection results and action of schools versus Food Service, Retail, and Bars. To expose one more potential data issue, I also showed unique values for \"Nature of Business.\"  It seems that this attribute may be another situation to use \"like\" since it looks like there are many different entries foor similar businesses.  An example is shown in the output for different ways to describe hot dog distributors."
   ]
  },
  {
   "cell_type": "code",
   "execution_count": 32,
   "metadata": {
    "collapsed": false
   },
   "outputs": [
    {
     "name": "stdout",
     "output_type": "stream",
     "text": [
      "Unique Program Categories:\n",
      "   7969 Food Service Establishment\n",
      "   1159 Retail -Grocery\n",
      "    894 Retail - Self Service & Prepackage Foods\n",
      "    865 Retail - Prepackage Only\n",
      "    832 School\n",
      "    832 Bar\n",
      "    748 Childcare\n",
      "    515 Mobile Pre-Packaged\n",
      "    489 Food Processor\n",
      "    357 Institutional Kitchen\n",
      "    343 Bakery\n",
      "    341 Mobile Food Unit\n",
      "    339 Retail - Deli\n",
      "    319 Non School\n",
      "    294 Retail - Meat/Seafood\n",
      "    288 Limited Menu\n",
      "    203 Warehouse\n",
      "    203 Seasonal Venue -Fixed Location\n",
      "    121 Meat Market\n",
      "    113 Retail - Specialty Food Permit\n",
      "     90 Frozen Food Truck\n",
      "     73 NOT FOR PROFIT KITCHEN PERMIT\n",
      "     67 Seasonal Location -Food Service Permit\n",
      "      6 Food/Drink Vending - Up to 15 Units\n",
      "      1 PROGRAM_CATEGORY_DESCRIPTION\n",
      "\n",
      "Redundancy in Nature of Business Category:\n",
      "     14 HOT DOG CART\n",
      "     12 HOT DOGS\n",
      "      3 HOT DOG STAND\n",
      "      1 HOT DOG VENDOR\n",
      "      1 HOT DOG MOBILE CART\n"
     ]
    }
   ],
   "source": [
    "!echo \"Unique Program Categories:\"\n",
    "!cat abq-2010.csv | csvcut -c16| csvsort -c1 | uniq -c | sort -rn\n",
    "!echo \"\\nRedundancy in Nature of Business Category:\"\n",
    "!cat abq-2010.csv | csvcut -c9| csvsort -c1 | uniq -c | sort -rn | grep \"HOT DOG\""
   ]
  },
  {
   "cell_type": "markdown",
   "metadata": {},
   "source": [
    "## Problem 2 - define a database model and load the data (35 points)\n",
    "\n",
    "Based on what you found above, create and connect to a new database, define a database table in it, and load this dataset into it.  You may use either of the methods for this step you have seen in earlier class notebooks.  You may choose to eliminate variables/columns if they are not relevant or interesting to you - explain your reasoning if you do.  Either way, you should load a majority of the columns present in the source dataset into the database and all of its rows.\n",
    "\n",
    "Once your data has loaded successfully, run a `COUNT(*)` query to verify that all the data has loaded correctly.\n",
    "\n",
    "Insert a combination of code and text/markdown cells here to connect to your database, define your table, load its data, and verify the loaded records."
   ]
  },
  {
   "cell_type": "code",
   "execution_count": 35,
   "metadata": {
    "collapsed": false
   },
   "outputs": [
    {
     "name": "stderr",
     "output_type": "stream",
     "text": [
      "/opt/conda/lib/python3.5/site-packages/IPython/config.py:13: ShimWarning: The `IPython.config` package has been deprecated. You should import from traitlets.config instead.\n",
      "  \"You should import from traitlets.config instead.\", ShimWarning)\n",
      "/opt/conda/lib/python3.5/site-packages/IPython/utils/traitlets.py:5: UserWarning: IPython.utils.traitlets has moved to a top-level traitlets package.\n",
      "  warn(\"IPython.utils.traitlets has moved to a top-level traitlets package.\")\n"
     ]
    }
   ],
   "source": [
    "%load_ext sql"
   ]
  },
  {
   "cell_type": "code",
   "execution_count": 36,
   "metadata": {
    "collapsed": false
   },
   "outputs": [
    {
     "name": "stdout",
     "output_type": "stream",
     "text": [
      "[sudo] password for jovyan: Restarting PostgreSQL 9.5 database server: main.\n"
     ]
    }
   ],
   "source": [
    "!echo 'redspot' | sudo -S service postgresql restart"
   ]
  },
  {
   "cell_type": "code",
   "execution_count": 37,
   "metadata": {
    "collapsed": true
   },
   "outputs": [],
   "source": [
    "!createdb -U dbuser week7"
   ]
  },
  {
   "cell_type": "code",
   "execution_count": 38,
   "metadata": {
    "collapsed": false
   },
   "outputs": [
    {
     "data": {
      "text/plain": [
       "'Connected: dbuser@week7'"
      ]
     },
     "execution_count": 38,
     "metadata": {},
     "output_type": "execute_result"
    }
   ],
   "source": [
    "%sql postgresql://dbuser@localhost:5432/week7"
   ]
  },
  {
   "cell_type": "code",
   "execution_count": 53,
   "metadata": {
    "collapsed": false
   },
   "outputs": [
    {
     "name": "stdout",
     "output_type": "stream",
     "text": [
      "Done.\n",
      "Done.\n"
     ]
    },
    {
     "data": {
      "text/plain": [
       "[]"
      ]
     },
     "execution_count": 53,
     "metadata": {},
     "output_type": "execute_result"
    }
   ],
   "source": [
    "%%sql\n",
    "DROP TABLE IF EXISTS inspection;\n",
    "CREATE TABLE inspection (\n",
    "    FACILITY_NAME CHAR(70),\n",
    "    FACILITY_KEY VARCHAR(6),\n",
    "    SITE_ADDRESS CHAR(35),\n",
    "    ZIP VARCHAR(10),\n",
    "    OWNER_KEY VARCHAR(5),\n",
    "    OWNER_NAME CHAR(86),\n",
    "    NATURE_OF_BUSINESS CHAR(25),\n",
    "    STREET_NUMBER INTEGER,\n",
    "    STREET_NAME CHAR(24),\n",
    "    STREET_TYPE CHAR(4),\n",
    "    POST_DIRECTIONAL CHAR(2),\n",
    "    PHONE VARCHAR(15),\n",
    "    PROGRAM_CATEGORY VARCHAR(4),\n",
    "    PROGRAM_CATEGORY_DESCRIPTION VARCHAR(40),\n",
    "    INSPECTION_DATE TIMESTAMP,\n",
    "    INSPECTION_DESC CHAR(32),\n",
    "    SERIAL_NUM VARCHAR(9),\n",
    "    ACTION_CODE VARCHAR(2),\n",
    "    ACTION_DESC CHAR(34),\n",
    "    RESULT_CODE VARCHAR(2),\n",
    "    RESULT_DESC CHAR(37),\n",
    "    VIOLATION_CODE VARCHAR(64),\n",
    "    VIOLATION_DESC CHAR(50)\n",
    "    )\n",
    "\n"
   ]
  },
  {
   "cell_type": "code",
   "execution_count": 54,
   "metadata": {
    "collapsed": true
   },
   "outputs": [],
   "source": [
    "!cat abq-2010.csv | csvcut -c1,2,3,6,7,8,9,10,11,12,13,14,15,16,17,19,20,21,22,23,25,26 > sqldata.csv"
   ]
  },
  {
   "cell_type": "code",
   "execution_count": 55,
   "metadata": {
    "collapsed": false
   },
   "outputs": [
    {
     "name": "stdout",
     "output_type": "stream",
     "text": [
      "/home/jovyan/work\r\n"
     ]
    }
   ],
   "source": [
    "!pwd"
   ]
  },
  {
   "cell_type": "code",
   "execution_count": 63,
   "metadata": {
    "collapsed": false
   },
   "outputs": [
    {
     "ename": "DataError",
     "evalue": "(psycopg2.DataError) missing data for column \"violation_desc\"\nCONTEXT:  COPY inspection, line 2: \"00BSAY IT WITH CAKE,50534,10200 GOLF COURSE RD NW STE B,87114,47341,OOBSAY IT WITH CAKE,CAKE DECORAT...\"\n [SQL: 'COPY inspection (FACILITY_NAME, FACILITY_KEY, SITE_ADDRESS, ZIP, OWNER_KEY, OWNER_NAME, NATURE_OF_BUSINESS,STREET_NUMBER,\\n    STREET_NAME, STREET_TYPE, POST_DIRECTIONAL, PHONE, PROGRAM_CATEGORY, PROGRAM_CATEGORY_DESCRIPTION,INSPECTION_DATE,\\n    INSPECTION_DESC, SERIAL_NUM, ACTION_CODE, ACTION_DESC, RESULT_CODE, RESULT_DESC, VIOLATION_CODE,VIOLATION_DESC) \\nFROM \\'/home/jovyan/work/sqldata.csv\\'\\nCSV\\nHEADER\\nQUOTE \\'\"\\'\\nDELIMITER \\',\\';']",
     "output_type": "error",
     "traceback": [
      "\u001b[0;31m---------------------------------------------------------------------------\u001b[0m",
      "\u001b[0;31mDataError\u001b[0m                                 Traceback (most recent call last)",
      "\u001b[0;32m/opt/conda/lib/python3.5/site-packages/sqlalchemy/engine/base.py\u001b[0m in \u001b[0;36m_execute_context\u001b[0;34m(self, dialect, constructor, statement, parameters, *args)\u001b[0m\n\u001b[1;32m   1138\u001b[0m                         \u001b[0mparameters\u001b[0m\u001b[0;34m,\u001b[0m\u001b[0;34m\u001b[0m\u001b[0m\n\u001b[0;32m-> 1139\u001b[0;31m                         context)\n\u001b[0m\u001b[1;32m   1140\u001b[0m         \u001b[0;32mexcept\u001b[0m \u001b[0mException\u001b[0m \u001b[0;32mas\u001b[0m \u001b[0me\u001b[0m\u001b[0;34m:\u001b[0m\u001b[0;34m\u001b[0m\u001b[0m\n",
      "\u001b[0;32m/opt/conda/lib/python3.5/site-packages/sqlalchemy/engine/default.py\u001b[0m in \u001b[0;36mdo_execute\u001b[0;34m(self, cursor, statement, parameters, context)\u001b[0m\n\u001b[1;32m    449\u001b[0m     \u001b[0;32mdef\u001b[0m \u001b[0mdo_execute\u001b[0m\u001b[0;34m(\u001b[0m\u001b[0mself\u001b[0m\u001b[0;34m,\u001b[0m \u001b[0mcursor\u001b[0m\u001b[0;34m,\u001b[0m \u001b[0mstatement\u001b[0m\u001b[0;34m,\u001b[0m \u001b[0mparameters\u001b[0m\u001b[0;34m,\u001b[0m \u001b[0mcontext\u001b[0m\u001b[0;34m=\u001b[0m\u001b[0;32mNone\u001b[0m\u001b[0;34m)\u001b[0m\u001b[0;34m:\u001b[0m\u001b[0;34m\u001b[0m\u001b[0m\n\u001b[0;32m--> 450\u001b[0;31m         \u001b[0mcursor\u001b[0m\u001b[0;34m.\u001b[0m\u001b[0mexecute\u001b[0m\u001b[0;34m(\u001b[0m\u001b[0mstatement\u001b[0m\u001b[0;34m,\u001b[0m \u001b[0mparameters\u001b[0m\u001b[0;34m)\u001b[0m\u001b[0;34m\u001b[0m\u001b[0m\n\u001b[0m\u001b[1;32m    451\u001b[0m \u001b[0;34m\u001b[0m\u001b[0m\n",
      "\u001b[0;31mDataError\u001b[0m: missing data for column \"violation_desc\"\nCONTEXT:  COPY inspection, line 2: \"00BSAY IT WITH CAKE,50534,10200 GOLF COURSE RD NW STE B,87114,47341,OOBSAY IT WITH CAKE,CAKE DECORAT...\"\n",
      "\nThe above exception was the direct cause of the following exception:\n",
      "\u001b[0;31mDataError\u001b[0m                                 Traceback (most recent call last)",
      "\u001b[0;32m<ipython-input-63-afa93f58c66f>\u001b[0m in \u001b[0;36m<module>\u001b[0;34m()\u001b[0m\n\u001b[0;32m----> 1\u001b[0;31m \u001b[0mget_ipython\u001b[0m\u001b[0;34m(\u001b[0m\u001b[0;34m)\u001b[0m\u001b[0;34m.\u001b[0m\u001b[0mrun_cell_magic\u001b[0m\u001b[0;34m(\u001b[0m\u001b[0;34m'sql'\u001b[0m\u001b[0;34m,\u001b[0m \u001b[0;34m''\u001b[0m\u001b[0;34m,\u001b[0m \u001b[0;34m'COPY inspection (FACILITY_NAME, FACILITY_KEY, SITE_ADDRESS, ZIP, OWNER_KEY, OWNER_NAME, NATURE_OF_BUSINESS,STREET_NUMBER,\\n    STREET_NAME, STREET_TYPE, POST_DIRECTIONAL, PHONE, PROGRAM_CATEGORY, PROGRAM_CATEGORY_DESCRIPTION,INSPECTION_DATE,\\n    INSPECTION_DESC, SERIAL_NUM, ACTION_CODE, ACTION_DESC, RESULT_CODE, RESULT_DESC, VIOLATION_CODE,VIOLATION_DESC) \\nFROM \\'/home/jovyan/work/sqldata.csv\\'\\nCSV\\nHEADER\\nQUOTE \\'\"\\'\\nDELIMITER \\',\\';'\u001b[0m\u001b[0;34m)\u001b[0m\u001b[0;34m\u001b[0m\u001b[0m\n\u001b[0m",
      "\u001b[0;32m/opt/conda/lib/python3.5/site-packages/IPython/core/interactiveshell.py\u001b[0m in \u001b[0;36mrun_cell_magic\u001b[0;34m(self, magic_name, line, cell)\u001b[0m\n\u001b[1;32m   2113\u001b[0m             \u001b[0mmagic_arg_s\u001b[0m \u001b[0;34m=\u001b[0m \u001b[0mself\u001b[0m\u001b[0;34m.\u001b[0m\u001b[0mvar_expand\u001b[0m\u001b[0;34m(\u001b[0m\u001b[0mline\u001b[0m\u001b[0;34m,\u001b[0m \u001b[0mstack_depth\u001b[0m\u001b[0;34m)\u001b[0m\u001b[0;34m\u001b[0m\u001b[0m\n\u001b[1;32m   2114\u001b[0m             \u001b[0;32mwith\u001b[0m \u001b[0mself\u001b[0m\u001b[0;34m.\u001b[0m\u001b[0mbuiltin_trap\u001b[0m\u001b[0;34m:\u001b[0m\u001b[0;34m\u001b[0m\u001b[0m\n\u001b[0;32m-> 2115\u001b[0;31m                 \u001b[0mresult\u001b[0m \u001b[0;34m=\u001b[0m \u001b[0mfn\u001b[0m\u001b[0;34m(\u001b[0m\u001b[0mmagic_arg_s\u001b[0m\u001b[0;34m,\u001b[0m \u001b[0mcell\u001b[0m\u001b[0;34m)\u001b[0m\u001b[0;34m\u001b[0m\u001b[0m\n\u001b[0m\u001b[1;32m   2116\u001b[0m             \u001b[0;32mreturn\u001b[0m \u001b[0mresult\u001b[0m\u001b[0;34m\u001b[0m\u001b[0m\n\u001b[1;32m   2117\u001b[0m \u001b[0;34m\u001b[0m\u001b[0m\n",
      "\u001b[0;32m<decorator-gen-123>\u001b[0m in \u001b[0;36mexecute\u001b[0;34m(self, line, cell, local_ns)\u001b[0m\n",
      "\u001b[0;32m/opt/conda/lib/python3.5/site-packages/IPython/core/magic.py\u001b[0m in \u001b[0;36m<lambda>\u001b[0;34m(f, *a, **k)\u001b[0m\n\u001b[1;32m    186\u001b[0m     \u001b[0;31m# but it's overkill for just that one bit of state.\u001b[0m\u001b[0;34m\u001b[0m\u001b[0;34m\u001b[0m\u001b[0m\n\u001b[1;32m    187\u001b[0m     \u001b[0;32mdef\u001b[0m \u001b[0mmagic_deco\u001b[0m\u001b[0;34m(\u001b[0m\u001b[0marg\u001b[0m\u001b[0;34m)\u001b[0m\u001b[0;34m:\u001b[0m\u001b[0;34m\u001b[0m\u001b[0m\n\u001b[0;32m--> 188\u001b[0;31m         \u001b[0mcall\u001b[0m \u001b[0;34m=\u001b[0m \u001b[0;32mlambda\u001b[0m \u001b[0mf\u001b[0m\u001b[0;34m,\u001b[0m \u001b[0;34m*\u001b[0m\u001b[0ma\u001b[0m\u001b[0;34m,\u001b[0m \u001b[0;34m**\u001b[0m\u001b[0mk\u001b[0m\u001b[0;34m:\u001b[0m \u001b[0mf\u001b[0m\u001b[0;34m(\u001b[0m\u001b[0;34m*\u001b[0m\u001b[0ma\u001b[0m\u001b[0;34m,\u001b[0m \u001b[0;34m**\u001b[0m\u001b[0mk\u001b[0m\u001b[0;34m)\u001b[0m\u001b[0;34m\u001b[0m\u001b[0m\n\u001b[0m\u001b[1;32m    189\u001b[0m \u001b[0;34m\u001b[0m\u001b[0m\n\u001b[1;32m    190\u001b[0m         \u001b[0;32mif\u001b[0m \u001b[0mcallable\u001b[0m\u001b[0;34m(\u001b[0m\u001b[0marg\u001b[0m\u001b[0;34m)\u001b[0m\u001b[0;34m:\u001b[0m\u001b[0;34m\u001b[0m\u001b[0m\n",
      "\u001b[0;32m<decorator-gen-122>\u001b[0m in \u001b[0;36mexecute\u001b[0;34m(self, line, cell, local_ns)\u001b[0m\n",
      "\u001b[0;32m/opt/conda/lib/python3.5/site-packages/IPython/core/magic.py\u001b[0m in \u001b[0;36m<lambda>\u001b[0;34m(f, *a, **k)\u001b[0m\n\u001b[1;32m    186\u001b[0m     \u001b[0;31m# but it's overkill for just that one bit of state.\u001b[0m\u001b[0;34m\u001b[0m\u001b[0;34m\u001b[0m\u001b[0m\n\u001b[1;32m    187\u001b[0m     \u001b[0;32mdef\u001b[0m \u001b[0mmagic_deco\u001b[0m\u001b[0;34m(\u001b[0m\u001b[0marg\u001b[0m\u001b[0;34m)\u001b[0m\u001b[0;34m:\u001b[0m\u001b[0;34m\u001b[0m\u001b[0m\n\u001b[0;32m--> 188\u001b[0;31m         \u001b[0mcall\u001b[0m \u001b[0;34m=\u001b[0m \u001b[0;32mlambda\u001b[0m \u001b[0mf\u001b[0m\u001b[0;34m,\u001b[0m \u001b[0;34m*\u001b[0m\u001b[0ma\u001b[0m\u001b[0;34m,\u001b[0m \u001b[0;34m**\u001b[0m\u001b[0mk\u001b[0m\u001b[0;34m:\u001b[0m \u001b[0mf\u001b[0m\u001b[0;34m(\u001b[0m\u001b[0;34m*\u001b[0m\u001b[0ma\u001b[0m\u001b[0;34m,\u001b[0m \u001b[0;34m**\u001b[0m\u001b[0mk\u001b[0m\u001b[0;34m)\u001b[0m\u001b[0;34m\u001b[0m\u001b[0m\n\u001b[0m\u001b[1;32m    189\u001b[0m \u001b[0;34m\u001b[0m\u001b[0m\n\u001b[1;32m    190\u001b[0m         \u001b[0;32mif\u001b[0m \u001b[0mcallable\u001b[0m\u001b[0;34m(\u001b[0m\u001b[0marg\u001b[0m\u001b[0;34m)\u001b[0m\u001b[0;34m:\u001b[0m\u001b[0;34m\u001b[0m\u001b[0m\n",
      "\u001b[0;32m/opt/conda/lib/python3.5/site-packages/sql/magic.py\u001b[0m in \u001b[0;36mexecute\u001b[0;34m(self, line, cell, local_ns)\u001b[0m\n\u001b[1;32m     78\u001b[0m             \u001b[0;32mreturn\u001b[0m \u001b[0mself\u001b[0m\u001b[0;34m.\u001b[0m\u001b[0m_persist_dataframe\u001b[0m\u001b[0;34m(\u001b[0m\u001b[0mparsed\u001b[0m\u001b[0;34m[\u001b[0m\u001b[0;34m'sql'\u001b[0m\u001b[0;34m]\u001b[0m\u001b[0;34m,\u001b[0m \u001b[0mconn\u001b[0m\u001b[0;34m,\u001b[0m \u001b[0muser_ns\u001b[0m\u001b[0;34m)\u001b[0m\u001b[0;34m\u001b[0m\u001b[0m\n\u001b[1;32m     79\u001b[0m         \u001b[0;32mtry\u001b[0m\u001b[0;34m:\u001b[0m\u001b[0;34m\u001b[0m\u001b[0m\n\u001b[0;32m---> 80\u001b[0;31m             \u001b[0mresult\u001b[0m \u001b[0;34m=\u001b[0m \u001b[0msql\u001b[0m\u001b[0;34m.\u001b[0m\u001b[0mrun\u001b[0m\u001b[0;34m.\u001b[0m\u001b[0mrun\u001b[0m\u001b[0;34m(\u001b[0m\u001b[0mconn\u001b[0m\u001b[0;34m,\u001b[0m \u001b[0mparsed\u001b[0m\u001b[0;34m[\u001b[0m\u001b[0;34m'sql'\u001b[0m\u001b[0;34m]\u001b[0m\u001b[0;34m,\u001b[0m \u001b[0mself\u001b[0m\u001b[0;34m,\u001b[0m \u001b[0muser_ns\u001b[0m\u001b[0;34m)\u001b[0m\u001b[0;34m\u001b[0m\u001b[0m\n\u001b[0m\u001b[1;32m     81\u001b[0m             \u001b[0;32mreturn\u001b[0m \u001b[0mresult\u001b[0m\u001b[0;34m\u001b[0m\u001b[0m\n\u001b[1;32m     82\u001b[0m         \u001b[0;32mexcept\u001b[0m \u001b[0;34m(\u001b[0m\u001b[0mProgrammingError\u001b[0m\u001b[0;34m,\u001b[0m \u001b[0mOperationalError\u001b[0m\u001b[0;34m)\u001b[0m \u001b[0;32mas\u001b[0m \u001b[0me\u001b[0m\u001b[0;34m:\u001b[0m\u001b[0;34m\u001b[0m\u001b[0m\n",
      "\u001b[0;32m/opt/conda/lib/python3.5/site-packages/sql/run.py\u001b[0m in \u001b[0;36mrun\u001b[0;34m(conn, sql, config, user_namespace)\u001b[0m\n\u001b[1;32m    270\u001b[0m                 \u001b[0;32mraise\u001b[0m \u001b[0mException\u001b[0m\u001b[0;34m(\u001b[0m\u001b[0;34m\"ipython_sql does not support transactions\"\u001b[0m\u001b[0;34m)\u001b[0m\u001b[0;34m\u001b[0m\u001b[0m\n\u001b[1;32m    271\u001b[0m             \u001b[0mtxt\u001b[0m \u001b[0;34m=\u001b[0m \u001b[0msqlalchemy\u001b[0m\u001b[0;34m.\u001b[0m\u001b[0msql\u001b[0m\u001b[0;34m.\u001b[0m\u001b[0mtext\u001b[0m\u001b[0;34m(\u001b[0m\u001b[0mstatement\u001b[0m\u001b[0;34m)\u001b[0m\u001b[0;34m\u001b[0m\u001b[0m\n\u001b[0;32m--> 272\u001b[0;31m             \u001b[0mresult\u001b[0m \u001b[0;34m=\u001b[0m \u001b[0mconn\u001b[0m\u001b[0;34m.\u001b[0m\u001b[0msession\u001b[0m\u001b[0;34m.\u001b[0m\u001b[0mexecute\u001b[0m\u001b[0;34m(\u001b[0m\u001b[0mtxt\u001b[0m\u001b[0;34m,\u001b[0m \u001b[0muser_namespace\u001b[0m\u001b[0;34m)\u001b[0m\u001b[0;34m\u001b[0m\u001b[0m\n\u001b[0m\u001b[1;32m    273\u001b[0m             \u001b[0;32mtry\u001b[0m\u001b[0;34m:\u001b[0m\u001b[0;34m\u001b[0m\u001b[0m\n\u001b[1;32m    274\u001b[0m                 \u001b[0mconn\u001b[0m\u001b[0;34m.\u001b[0m\u001b[0msession\u001b[0m\u001b[0;34m.\u001b[0m\u001b[0mexecute\u001b[0m\u001b[0;34m(\u001b[0m\u001b[0;34m'commit'\u001b[0m\u001b[0;34m)\u001b[0m\u001b[0;34m\u001b[0m\u001b[0m\n",
      "\u001b[0;32m/opt/conda/lib/python3.5/site-packages/sqlalchemy/engine/base.py\u001b[0m in \u001b[0;36mexecute\u001b[0;34m(self, object, *multiparams, **params)\u001b[0m\n\u001b[1;32m    912\u001b[0m                 type(object))\n\u001b[1;32m    913\u001b[0m         \u001b[0;32melse\u001b[0m\u001b[0;34m:\u001b[0m\u001b[0;34m\u001b[0m\u001b[0m\n\u001b[0;32m--> 914\u001b[0;31m             \u001b[0;32mreturn\u001b[0m \u001b[0mmeth\u001b[0m\u001b[0;34m(\u001b[0m\u001b[0mself\u001b[0m\u001b[0;34m,\u001b[0m \u001b[0mmultiparams\u001b[0m\u001b[0;34m,\u001b[0m \u001b[0mparams\u001b[0m\u001b[0;34m)\u001b[0m\u001b[0;34m\u001b[0m\u001b[0m\n\u001b[0m\u001b[1;32m    915\u001b[0m \u001b[0;34m\u001b[0m\u001b[0m\n\u001b[1;32m    916\u001b[0m     \u001b[0;32mdef\u001b[0m \u001b[0m_execute_function\u001b[0m\u001b[0;34m(\u001b[0m\u001b[0mself\u001b[0m\u001b[0;34m,\u001b[0m \u001b[0mfunc\u001b[0m\u001b[0;34m,\u001b[0m \u001b[0mmultiparams\u001b[0m\u001b[0;34m,\u001b[0m \u001b[0mparams\u001b[0m\u001b[0;34m)\u001b[0m\u001b[0;34m:\u001b[0m\u001b[0;34m\u001b[0m\u001b[0m\n",
      "\u001b[0;32m/opt/conda/lib/python3.5/site-packages/sqlalchemy/sql/elements.py\u001b[0m in \u001b[0;36m_execute_on_connection\u001b[0;34m(self, connection, multiparams, params)\u001b[0m\n\u001b[1;32m    321\u001b[0m \u001b[0;34m\u001b[0m\u001b[0m\n\u001b[1;32m    322\u001b[0m     \u001b[0;32mdef\u001b[0m \u001b[0m_execute_on_connection\u001b[0m\u001b[0;34m(\u001b[0m\u001b[0mself\u001b[0m\u001b[0;34m,\u001b[0m \u001b[0mconnection\u001b[0m\u001b[0;34m,\u001b[0m \u001b[0mmultiparams\u001b[0m\u001b[0;34m,\u001b[0m \u001b[0mparams\u001b[0m\u001b[0;34m)\u001b[0m\u001b[0;34m:\u001b[0m\u001b[0;34m\u001b[0m\u001b[0m\n\u001b[0;32m--> 323\u001b[0;31m         \u001b[0;32mreturn\u001b[0m \u001b[0mconnection\u001b[0m\u001b[0;34m.\u001b[0m\u001b[0m_execute_clauseelement\u001b[0m\u001b[0;34m(\u001b[0m\u001b[0mself\u001b[0m\u001b[0;34m,\u001b[0m \u001b[0mmultiparams\u001b[0m\u001b[0;34m,\u001b[0m \u001b[0mparams\u001b[0m\u001b[0;34m)\u001b[0m\u001b[0;34m\u001b[0m\u001b[0m\n\u001b[0m\u001b[1;32m    324\u001b[0m \u001b[0;34m\u001b[0m\u001b[0m\n\u001b[1;32m    325\u001b[0m     \u001b[0;32mdef\u001b[0m \u001b[0munique_params\u001b[0m\u001b[0;34m(\u001b[0m\u001b[0mself\u001b[0m\u001b[0;34m,\u001b[0m \u001b[0;34m*\u001b[0m\u001b[0moptionaldict\u001b[0m\u001b[0;34m,\u001b[0m \u001b[0;34m**\u001b[0m\u001b[0mkwargs\u001b[0m\u001b[0;34m)\u001b[0m\u001b[0;34m:\u001b[0m\u001b[0;34m\u001b[0m\u001b[0m\n",
      "\u001b[0;32m/opt/conda/lib/python3.5/site-packages/sqlalchemy/engine/base.py\u001b[0m in \u001b[0;36m_execute_clauseelement\u001b[0;34m(self, elem, multiparams, params)\u001b[0m\n\u001b[1;32m   1008\u001b[0m             \u001b[0mcompiled_sql\u001b[0m\u001b[0;34m,\u001b[0m\u001b[0;34m\u001b[0m\u001b[0m\n\u001b[1;32m   1009\u001b[0m             \u001b[0mdistilled_params\u001b[0m\u001b[0;34m,\u001b[0m\u001b[0;34m\u001b[0m\u001b[0m\n\u001b[0;32m-> 1010\u001b[0;31m             \u001b[0mcompiled_sql\u001b[0m\u001b[0;34m,\u001b[0m \u001b[0mdistilled_params\u001b[0m\u001b[0;34m\u001b[0m\u001b[0m\n\u001b[0m\u001b[1;32m   1011\u001b[0m         )\n\u001b[1;32m   1012\u001b[0m         \u001b[0;32mif\u001b[0m \u001b[0mself\u001b[0m\u001b[0;34m.\u001b[0m\u001b[0m_has_events\u001b[0m \u001b[0;32mor\u001b[0m \u001b[0mself\u001b[0m\u001b[0;34m.\u001b[0m\u001b[0mengine\u001b[0m\u001b[0;34m.\u001b[0m\u001b[0m_has_events\u001b[0m\u001b[0;34m:\u001b[0m\u001b[0;34m\u001b[0m\u001b[0m\n",
      "\u001b[0;32m/opt/conda/lib/python3.5/site-packages/sqlalchemy/engine/base.py\u001b[0m in \u001b[0;36m_execute_context\u001b[0;34m(self, dialect, constructor, statement, parameters, *args)\u001b[0m\n\u001b[1;32m   1144\u001b[0m                 \u001b[0mparameters\u001b[0m\u001b[0;34m,\u001b[0m\u001b[0;34m\u001b[0m\u001b[0m\n\u001b[1;32m   1145\u001b[0m                 \u001b[0mcursor\u001b[0m\u001b[0;34m,\u001b[0m\u001b[0;34m\u001b[0m\u001b[0m\n\u001b[0;32m-> 1146\u001b[0;31m                 context)\n\u001b[0m\u001b[1;32m   1147\u001b[0m \u001b[0;34m\u001b[0m\u001b[0m\n\u001b[1;32m   1148\u001b[0m         \u001b[0;32mif\u001b[0m \u001b[0mself\u001b[0m\u001b[0;34m.\u001b[0m\u001b[0m_has_events\u001b[0m \u001b[0;32mor\u001b[0m \u001b[0mself\u001b[0m\u001b[0;34m.\u001b[0m\u001b[0mengine\u001b[0m\u001b[0;34m.\u001b[0m\u001b[0m_has_events\u001b[0m\u001b[0;34m:\u001b[0m\u001b[0;34m\u001b[0m\u001b[0m\n",
      "\u001b[0;32m/opt/conda/lib/python3.5/site-packages/sqlalchemy/engine/base.py\u001b[0m in \u001b[0;36m_handle_dbapi_exception\u001b[0;34m(self, e, statement, parameters, cursor, context)\u001b[0m\n\u001b[1;32m   1339\u001b[0m                 util.raise_from_cause(\n\u001b[1;32m   1340\u001b[0m                     \u001b[0msqlalchemy_exception\u001b[0m\u001b[0;34m,\u001b[0m\u001b[0;34m\u001b[0m\u001b[0m\n\u001b[0;32m-> 1341\u001b[0;31m                     \u001b[0mexc_info\u001b[0m\u001b[0;34m\u001b[0m\u001b[0m\n\u001b[0m\u001b[1;32m   1342\u001b[0m                 )\n\u001b[1;32m   1343\u001b[0m             \u001b[0;32melse\u001b[0m\u001b[0;34m:\u001b[0m\u001b[0;34m\u001b[0m\u001b[0m\n",
      "\u001b[0;32m/opt/conda/lib/python3.5/site-packages/sqlalchemy/util/compat.py\u001b[0m in \u001b[0;36mraise_from_cause\u001b[0;34m(exception, exc_info)\u001b[0m\n\u001b[1;32m    200\u001b[0m     \u001b[0mexc_type\u001b[0m\u001b[0;34m,\u001b[0m \u001b[0mexc_value\u001b[0m\u001b[0;34m,\u001b[0m \u001b[0mexc_tb\u001b[0m \u001b[0;34m=\u001b[0m \u001b[0mexc_info\u001b[0m\u001b[0;34m\u001b[0m\u001b[0m\n\u001b[1;32m    201\u001b[0m     \u001b[0mcause\u001b[0m \u001b[0;34m=\u001b[0m \u001b[0mexc_value\u001b[0m \u001b[0;32mif\u001b[0m \u001b[0mexc_value\u001b[0m \u001b[0;32mis\u001b[0m \u001b[0;32mnot\u001b[0m \u001b[0mexception\u001b[0m \u001b[0;32melse\u001b[0m \u001b[0;32mNone\u001b[0m\u001b[0;34m\u001b[0m\u001b[0m\n\u001b[0;32m--> 202\u001b[0;31m     \u001b[0mreraise\u001b[0m\u001b[0;34m(\u001b[0m\u001b[0mtype\u001b[0m\u001b[0;34m(\u001b[0m\u001b[0mexception\u001b[0m\u001b[0;34m)\u001b[0m\u001b[0;34m,\u001b[0m \u001b[0mexception\u001b[0m\u001b[0;34m,\u001b[0m \u001b[0mtb\u001b[0m\u001b[0;34m=\u001b[0m\u001b[0mexc_tb\u001b[0m\u001b[0;34m,\u001b[0m \u001b[0mcause\u001b[0m\u001b[0;34m=\u001b[0m\u001b[0mcause\u001b[0m\u001b[0;34m)\u001b[0m\u001b[0;34m\u001b[0m\u001b[0m\n\u001b[0m\u001b[1;32m    203\u001b[0m \u001b[0;34m\u001b[0m\u001b[0m\n\u001b[1;32m    204\u001b[0m \u001b[0;32mif\u001b[0m \u001b[0mpy3k\u001b[0m\u001b[0;34m:\u001b[0m\u001b[0;34m\u001b[0m\u001b[0m\n",
      "\u001b[0;32m/opt/conda/lib/python3.5/site-packages/sqlalchemy/util/compat.py\u001b[0m in \u001b[0;36mreraise\u001b[0;34m(tp, value, tb, cause)\u001b[0m\n\u001b[1;32m    183\u001b[0m             \u001b[0mvalue\u001b[0m\u001b[0;34m.\u001b[0m\u001b[0m__cause__\u001b[0m \u001b[0;34m=\u001b[0m \u001b[0mcause\u001b[0m\u001b[0;34m\u001b[0m\u001b[0m\n\u001b[1;32m    184\u001b[0m         \u001b[0;32mif\u001b[0m \u001b[0mvalue\u001b[0m\u001b[0;34m.\u001b[0m\u001b[0m__traceback__\u001b[0m \u001b[0;32mis\u001b[0m \u001b[0;32mnot\u001b[0m \u001b[0mtb\u001b[0m\u001b[0;34m:\u001b[0m\u001b[0;34m\u001b[0m\u001b[0m\n\u001b[0;32m--> 185\u001b[0;31m             \u001b[0;32mraise\u001b[0m \u001b[0mvalue\u001b[0m\u001b[0;34m.\u001b[0m\u001b[0mwith_traceback\u001b[0m\u001b[0;34m(\u001b[0m\u001b[0mtb\u001b[0m\u001b[0;34m)\u001b[0m\u001b[0;34m\u001b[0m\u001b[0m\n\u001b[0m\u001b[1;32m    186\u001b[0m         \u001b[0;32mraise\u001b[0m \u001b[0mvalue\u001b[0m\u001b[0;34m\u001b[0m\u001b[0m\n\u001b[1;32m    187\u001b[0m \u001b[0;34m\u001b[0m\u001b[0m\n",
      "\u001b[0;32m/opt/conda/lib/python3.5/site-packages/sqlalchemy/engine/base.py\u001b[0m in \u001b[0;36m_execute_context\u001b[0;34m(self, dialect, constructor, statement, parameters, *args)\u001b[0m\n\u001b[1;32m   1137\u001b[0m                         \u001b[0mstatement\u001b[0m\u001b[0;34m,\u001b[0m\u001b[0;34m\u001b[0m\u001b[0m\n\u001b[1;32m   1138\u001b[0m                         \u001b[0mparameters\u001b[0m\u001b[0;34m,\u001b[0m\u001b[0;34m\u001b[0m\u001b[0m\n\u001b[0;32m-> 1139\u001b[0;31m                         context)\n\u001b[0m\u001b[1;32m   1140\u001b[0m         \u001b[0;32mexcept\u001b[0m \u001b[0mException\u001b[0m \u001b[0;32mas\u001b[0m \u001b[0me\u001b[0m\u001b[0;34m:\u001b[0m\u001b[0;34m\u001b[0m\u001b[0m\n\u001b[1;32m   1141\u001b[0m             self._handle_dbapi_exception(\n",
      "\u001b[0;32m/opt/conda/lib/python3.5/site-packages/sqlalchemy/engine/default.py\u001b[0m in \u001b[0;36mdo_execute\u001b[0;34m(self, cursor, statement, parameters, context)\u001b[0m\n\u001b[1;32m    448\u001b[0m \u001b[0;34m\u001b[0m\u001b[0m\n\u001b[1;32m    449\u001b[0m     \u001b[0;32mdef\u001b[0m \u001b[0mdo_execute\u001b[0m\u001b[0;34m(\u001b[0m\u001b[0mself\u001b[0m\u001b[0;34m,\u001b[0m \u001b[0mcursor\u001b[0m\u001b[0;34m,\u001b[0m \u001b[0mstatement\u001b[0m\u001b[0;34m,\u001b[0m \u001b[0mparameters\u001b[0m\u001b[0;34m,\u001b[0m \u001b[0mcontext\u001b[0m\u001b[0;34m=\u001b[0m\u001b[0;32mNone\u001b[0m\u001b[0;34m)\u001b[0m\u001b[0;34m:\u001b[0m\u001b[0;34m\u001b[0m\u001b[0m\n\u001b[0;32m--> 450\u001b[0;31m         \u001b[0mcursor\u001b[0m\u001b[0;34m.\u001b[0m\u001b[0mexecute\u001b[0m\u001b[0;34m(\u001b[0m\u001b[0mstatement\u001b[0m\u001b[0;34m,\u001b[0m \u001b[0mparameters\u001b[0m\u001b[0;34m)\u001b[0m\u001b[0;34m\u001b[0m\u001b[0m\n\u001b[0m\u001b[1;32m    451\u001b[0m \u001b[0;34m\u001b[0m\u001b[0m\n\u001b[1;32m    452\u001b[0m     \u001b[0;32mdef\u001b[0m \u001b[0mdo_execute_no_params\u001b[0m\u001b[0;34m(\u001b[0m\u001b[0mself\u001b[0m\u001b[0;34m,\u001b[0m \u001b[0mcursor\u001b[0m\u001b[0;34m,\u001b[0m \u001b[0mstatement\u001b[0m\u001b[0;34m,\u001b[0m \u001b[0mcontext\u001b[0m\u001b[0;34m=\u001b[0m\u001b[0;32mNone\u001b[0m\u001b[0;34m)\u001b[0m\u001b[0;34m:\u001b[0m\u001b[0;34m\u001b[0m\u001b[0m\n",
      "\u001b[0;31mDataError\u001b[0m: (psycopg2.DataError) missing data for column \"violation_desc\"\nCONTEXT:  COPY inspection, line 2: \"00BSAY IT WITH CAKE,50534,10200 GOLF COURSE RD NW STE B,87114,47341,OOBSAY IT WITH CAKE,CAKE DECORAT...\"\n [SQL: 'COPY inspection (FACILITY_NAME, FACILITY_KEY, SITE_ADDRESS, ZIP, OWNER_KEY, OWNER_NAME, NATURE_OF_BUSINESS,STREET_NUMBER,\\n    STREET_NAME, STREET_TYPE, POST_DIRECTIONAL, PHONE, PROGRAM_CATEGORY, PROGRAM_CATEGORY_DESCRIPTION,INSPECTION_DATE,\\n    INSPECTION_DESC, SERIAL_NUM, ACTION_CODE, ACTION_DESC, RESULT_CODE, RESULT_DESC, VIOLATION_CODE,VIOLATION_DESC) \\nFROM \\'/home/jovyan/work/sqldata.csv\\'\\nCSV\\nHEADER\\nQUOTE \\'\"\\'\\nDELIMITER \\',\\';']"
     ]
    }
   ],
   "source": [
    "%%sql\n",
    "COPY inspection (FACILITY_NAME, FACILITY_KEY, SITE_ADDRESS, ZIP, OWNER_KEY, OWNER_NAME, NATURE_OF_BUSINESS,STREET_NUMBER,\n",
    "    STREET_NAME, STREET_TYPE, POST_DIRECTIONAL, PHONE, PROGRAM_CATEGORY, PROGRAM_CATEGORY_DESCRIPTION,INSPECTION_DATE,\n",
    "    INSPECTION_DESC, SERIAL_NUM, ACTION_CODE, ACTION_DESC, RESULT_CODE, RESULT_DESC, VIOLATION_CODE,VIOLATION_DESC) \n",
    "FROM '/home/jovyan/work/sqldata.csv'\n",
    "CSV\n",
    "HEADER\n",
    "QUOTE '\"'\n",
    "DELIMITER ',';"
   ]
  },
  {
   "cell_type": "markdown",
   "metadata": {},
   "source": [
    "## Problem 3 - explore your data (30 points)\n",
    "\n",
    "Now that the data is loaded, ask some questions of it!  Identify key variables of interest and note their ranges along with other useful descriptive statistics.  Choose and define a few lines of inquiry, execute queries for each, and describe what you find in your result sets.  Use any query techniques we've seen in class, including aggregate functions, transformations, subqueries, or others as appropriate. \n",
    "\n",
    "If you find interesting patterns, adding plots to your exploration would be useful.\n",
    "\n",
    "Insert a combination of code and text/markdown cells here to explore your data."
   ]
  },
  {
   "cell_type": "markdown",
   "metadata": {},
   "source": [
    "## Bonus (10 points)\n",
    "\n",
    "We have seen a few simple techniques for normalizing data in class.  Choose a column or set of columns that might be redundant and normalize them out to another table:\n",
    "\n",
    "* Identify the columns to normalize in the source data table\n",
    "* Create one or more new tables to hold the normalized records\n",
    "* Extract data into the new tables\n",
    "* Re-insert the new foreign key references from the new table into the source table"
   ]
  }
 ],
 "metadata": {
  "anaconda-cloud": {},
  "kernelspec": {
   "display_name": "Python 3",
   "language": "python",
   "name": "python3"
  },
  "language_info": {
   "codemirror_mode": {
    "name": "ipython",
    "version": 3
   },
   "file_extension": ".py",
   "mimetype": "text/x-python",
   "name": "python",
   "nbconvert_exporter": "python",
   "pygments_lexer": "ipython3",
   "version": "3.5.2"
  }
 },
 "nbformat": 4,
 "nbformat_minor": 1
}
