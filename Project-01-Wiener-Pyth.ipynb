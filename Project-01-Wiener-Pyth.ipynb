{
 "cells": [
  {
   "cell_type": "markdown",
   "metadata": {},
   "source": [
    "## Project 1\n",
    "Marissa Wiener <br> 9/23/2016"
   ]
  },
  {
   "cell_type": "markdown",
   "metadata": {},
   "source": [
    "### Problem 1 - Word Count \n",
    "#### Part A. Characters in Little Women"
   ]
  },
  {
   "cell_type": "code",
   "execution_count": 1,
   "metadata": {
    "collapsed": false
   },
   "outputs": [
    {
     "name": "stdout",
     "output_type": "stream",
     "text": [
      "--2016-09-19 01:29:42--  https://raw.githubusercontent.com/gwsb-istm-6212-fall-2016/syllabus-and-schedule/master/projects/project-01/women.txt\n",
      "Resolving raw.githubusercontent.com (raw.githubusercontent.com)... 151.101.20.133\n",
      "Connecting to raw.githubusercontent.com (raw.githubusercontent.com)|151.101.20.133|:443... connected.\n",
      "HTTP request sent, awaiting response... 200 OK\n",
      "Length: 1053440 (1.0M) [text/plain]\n",
      "Saving to: ‘women.txt’\n",
      "\n",
      "women.txt           100%[=====================>]   1.00M  --.-KB/s   in 0.05s  \n",
      "\n",
      "2016-09-19 01:29:42 (18.9 MB/s) - ‘women.txt’ saved [1053440/1053440]\n",
      "\n"
     ]
    }
   ],
   "source": [
    "# retrieve text (if not already downloaded)\n",
    "!wget 'https://raw.githubusercontent.com/gwsb-istm-6212-fall-2016/syllabus-and-schedule/master/projects/project-01/women.txt'"
   ]
  },
  {
   "cell_type": "code",
   "execution_count": 22,
   "metadata": {
    "collapsed": false
   },
   "outputs": [
    {
     "name": "stdout",
     "output_type": "stream",
     "text": [
      "    652 amy\n",
      "    467 beth\n",
      "   1362 jo\n",
      "    686 meg\n",
      "\n",
      "> The table above shows the number of times where Amy, Beth, Jo, and Meg are mentioned respectively in Little Women\n"
     ]
    }
   ],
   "source": [
    "# answer\n",
    "!echo \n",
    "#!cat women.txt | grep -oE '\\w{{2,}}'| grep -wi 'jo\\|beth\\|meg\\|amy'| sort | uniq -c \n",
    "!cat women.txt | grep -oE '\\w{{2,}}'| tr [:upper:] [:lower:] | grep -w 'jo\\|beth\\|meg\\|amy'| sort | uniq -c \n",
    "\n",
    "print('\\n> The table above shows the number of times where Amy, Beth, Jo, and Meg are mentioned respectively in Little Women')"
   ]
  },
  {
   "cell_type": "markdown",
   "metadata": {},
   "source": [
    "#### Part B. Juliet and Romeo in Romeo and Juliet"
   ]
  },
  {
   "cell_type": "code",
   "execution_count": null,
   "metadata": {
    "collapsed": false
   },
   "outputs": [],
   "source": [
    "# retrieve text (if not already downloaded)\n",
    "!wget 'https://raw.githubusercontent.com/gwsb-istm-6212-fall-2016/syllabus-and-schedule/master/projects/project-01/romeo.txt'"
   ]
  },
  {
   "cell_type": "markdown",
   "metadata": {},
   "source": [
    "Run the following code to observe the syntax used to denote who will be delivering each line.\n",
    "\n",
    "For Romeo's lines, \"Rom.\" is used, and similarly, \"Jul.\" is used for Juliet's lines."
   ]
  },
  {
   "cell_type": "code",
   "execution_count": 37,
   "metadata": {
    "collapsed": false
   },
   "outputs": [
    {
     "name": "stdout",
     "output_type": "stream",
     "text": [
      "1:﻿The Project Gutenberg EBook of Romeo and Juliet, by William Shakespeare\n",
      "9:Title: Romeo and Juliet\n",
      "19:*** START OF THIS PROJECT GUTENBERG EBOOK ROMEO AND JULIET ***\n",
      "46:The Tragedy of Romeo and Juliet\n",
      "66:THE TRAGEDY OF ROMEO AND JULIET\n",
      "87:  Romeo, son to Montague.\n",
      "91:  Mercutio, kinsman to the Prince and friend to Romeo.\n",
      "93:  Benvolio, nephew to Montague, and friend to Romeo\n",
      "101:  Balthasar, servant to Romeo.\n",
      "109:  Peter, servant to Juliet's nurse.\n",
      "122:  Juliet, daughter to Capulet.\n",
      "124:  Nurse to Juliet.\n",
      "351:  M. Wife. O, where is Romeo? Saw you him to-day?\n",
      "398:                       Enter Romeo.\n",
      "417:  Ben. It was. What sadness lengthens Romeo's hours?\n",
      "468:    This is not Romeo, he's some other where.\n",
      "587:                   Enter Benvolio and Romeo.\n",
      "603:  Ben. Why, Romeo, art thou mad?\n",
      "688:    God forbid! Where's this girl? What, Juliet!\n",
      "690:                         Enter Juliet.\n",
      "768:    I came to talk of. Tell me, daughter Juliet,\n",
      "824:    Juliet, the County stays.\n",
      "835:Enter Romeo, Mercutio, Benvolio, with five or six other Maskers;\n",
      "854:  Mer. Nay, gentle Romeo, we must have you dance.\n",
      "1012:              Juliet, Tybalt, and all the Guests\n",
      "1076:  Cap. Young Romeo is it?\n",
      "1078:  Tyb. 'Tis he, that villain Romeo.\n",
      "1170:                              Exeunt [all but Juliet and Nurse].\n",
      "1187:  Nurse. His name is Romeo, and a Montague,\n",
      "1199:                                     One calls within, 'Juliet.'\n",
      "1215:    With tender Juliet match'd, is now not fair.\n",
      "1216:    Now Romeo is belov'd, and loves again,\n",
      "1234:Enter Romeo alone.\n",
      "1244:  Ben. Romeo! my cousin Romeo! Romeo!\n",
      "1253:    Romeo! humours! madman! passion! lover!\n",
      "1287:    O, Romeo, that she were, O that she were\n",
      "1289:    Romeo, good night. I'll to my truckle-bed;\n",
      "1303:Enter Romeo.\n",
      "1308:                     Enter Juliet above at a window.\n",
      "1311:    It is the East, and Juliet is the sun!\n",
      "1346:  Jul. O Romeo, Romeo! wherefore art thou Romeo?\n",
      "1360:    So Romeo would, were he not Romeo call'd,\n",
      "1362:    Without that title. Romeo, doff thy name;\n",
      "1368:    Henceforth I never will be Romeo.\n",
      "1381:    Art thou not Romeo, and a Montague?\n",
      "1424:    They say Jove laughs. O gentle Romeo,\n",
      "1490:                       Enter Juliet above.\n",
      "1493:  Jul. Three words, dear Romeo, and good night indeed.\n",
      "1520:                     Enter Juliet again, [above].\n",
      "1523:  Jul. Hist! Romeo, hist! O for a falconer's voice\n",
      "1528:    With repetition of my Romeo's name.\n",
      "1529:    Romeo!\n",
      "1535:  Jul. Romeo!\n",
      "1616:                        Enter Romeo.\n",
      "1632:    Our Romeo hath not been in bed to-night.\n",
      "1714:  Mer. Where the devil should this Romeo be?\n",
      "1727:  Ben. Romeo will answer it.\n",
      "1734:  Mer. Alas, poor Romeo, he is already dead! stabb'd with a white\n",
      "1759:                               Enter Romeo.\n",
      "1762:  Ben. Here comes Romeo! here comes Romeo!\n",
      "1769:    but not to the purpose. Signior Romeo, bon jour! There's a French\n",
      "1829:    art thou sociable, now art thou Romeo; now art thou what thou art, by\n",
      "1877:    young Romeo?\n",
      "1879:  Rom. I can tell you; but young Romeo will be older when you\n",
      "1907:    Romeo, will you come to your father's? We'll to dinner thither.\n",
      "grep: write error\n"
     ]
    }
   ],
   "source": [
    "!grep -win 'Romeo\\|Juliet' romeo.txt | head -65"
   ]
  },
  {
   "cell_type": "code",
   "execution_count": 38,
   "metadata": {
    "collapsed": false,
    "scrolled": false
   },
   "outputs": [
    {
     "name": "stdout",
     "output_type": "stream",
     "text": [
      "    117 Jul\n",
      "    163 Rom\n",
      "\n",
      "> Romeo has 163 lines and Juliet has 117 lines\n"
     ]
    }
   ],
   "source": [
    "# answer\n",
    "\n",
    "#grep -oE '\\w{{2,}}' strips period, so exclude it from the grep\n",
    "!cat romeo.txt | grep -oE '\\w{{2,}}'|grep -w 'Rom\\|Jul'| sort | uniq -c\n",
    "\n",
    "print('\\n> Romeo has 163 lines and Juliet has 117 lines')"
   ]
  },
  {
   "cell_type": "markdown",
   "metadata": {},
   "source": [
    "### Problem 2 - Capital Bikeshare\n",
    "#### Part A. "
   ]
  },
  {
   "cell_type": "code",
   "execution_count": 1,
   "metadata": {
    "collapsed": false
   },
   "outputs": [
    {
     "name": "stdout",
     "output_type": "stream",
     "text": [
      "Archive:  2016q1.csv.zip\n",
      "  inflating: 2016q1.csv              \n"
     ]
    }
   ],
   "source": [
    "# retrieve zip file, unzip it (if this has not been done yet), and \n",
    "# rename it to q1.csv\n",
    "\n",
    "#!wget 'https://raw.githubusercontent.com/gwsb-istm-6212-fall-2016/syllabus-and-schedule/master/projects/project-01/2016q1.csv.zip'\n",
    "!unzip 2016q1.csv.zip\n",
    "!mv 2016q1.csv q1.csv"
   ]
  },
  {
   "cell_type": "code",
   "execution_count": 13,
   "metadata": {
    "collapsed": false
   },
   "outputs": [
    {
     "name": "stdout",
     "output_type": "stream",
     "text": [
      "  1: Duration (ms)\r\n",
      "  2: Start date\r\n",
      "  3: End date\r\n",
      "  4: Start station number\r\n",
      "  5: Start station\r\n",
      "  6: End station number\r\n",
      "  7: End station\r\n",
      "  8: Bike number\r\n",
      "  9: Member Type\r\n"
     ]
    }
   ],
   "source": [
    "#look at the columns\n",
    "!csvcut -n q1.csv"
   ]
  },
  {
   "cell_type": "code",
   "execution_count": 14,
   "metadata": {
    "collapsed": false,
    "scrolled": true
   },
   "outputs": [
    {
     "name": "stdout",
     "output_type": "stream",
     "text": [
      "  13120 Columbus Circle / Union Station\r\n",
      "   9560 Massachusetts Ave & Dupont Circle NW\r\n",
      "   9388 Lincoln Memorial\r\n",
      "   8138 Jefferson Dr & 14th St SW\r\n",
      "   7479 Thomas Circle\r\n",
      "   7401 15th & P St NW\r\n",
      "   6568 14th & V St NW\r\n",
      "   6491 New Hampshire Ave & T St NW\r\n",
      "   5649 Eastern Market Metro / Pennsylvania Ave & 7th St SE\r\n",
      "   5514 17th & Corcoran St NW\r\n"
     ]
    }
   ],
   "source": [
    "!csvcut -c5 q1.csv | csvsort | uniq -c | sort -rn | head -10 "
   ]
  },
  {
   "cell_type": "code",
   "execution_count": 8,
   "metadata": {
    "collapsed": false
   },
   "outputs": [
    {
     "name": "stdout",
     "output_type": "stream",
     "text": [
      "     17 W22227\r\n",
      "     16 W21867\r\n",
      "     16 W21641\r\n",
      "     16 W21538\r\n",
      "     16 W21239\r\n",
      "     16 W20540\r\n",
      "     16 W00714\r\n",
      "     15 W22080\r\n",
      "     15 W21450\r\n",
      "     15 W21076\r\n",
      "     15 W00777\r\n",
      "     15 W00288\r\n",
      "     14 W22099\r\n",
      "sort: write failed: standard output: Broken pipe\r\n",
      "sort: write error\r\n"
     ]
    }
   ],
   "source": [
    "# head 12 because there is a tie at 15\n",
    "!csvcut -c5,8 q1.csv | grep 'Columbus Circle / Union Station'|csvcut -c2 | csvsort | uniq -c | sort -rn | head -12"
   ]
  },
  {
   "cell_type": "code",
   "execution_count": 9,
   "metadata": {
    "collapsed": false
   },
   "outputs": [
    {
     "name": "stdout",
     "output_type": "stream",
     "text": [
      "  13880 Columbus Circle / Union Station\r\n",
      "  11183 Massachusetts Ave & Dupont Circle NW\r\n",
      "   9419 Lincoln Memorial\r\n",
      "   8975 Jefferson Dr & 14th St SW\r\n",
      "   8092 15th & P St NW\r\n",
      "   7267 14th & V St NW\r\n",
      "   6997 Thomas Circle\r\n",
      "   6245 New Hampshire Ave & T St NW\r\n",
      "   5761 5th & K St NW\r\n",
      "   5651 17th & Corcoran St NW\r\n"
     ]
    }
   ],
   "source": [
    "!csvcut -c7 q1.csv | csvsort | uniq -c | sort -rn | head -10 \n",
    "#!csvstat -c 5 --freq q1.csv "
   ]
  },
  {
   "cell_type": "code",
   "execution_count": 11,
   "metadata": {
    "collapsed": false
   },
   "outputs": [
    {
     "name": "stdout",
     "output_type": "stream",
     "text": [
      "     18 W00485\r\n",
      "     17 W22227\r\n",
      "     16 W22099\r\n",
      "     16 W22080\r\n",
      "     16 W21239\r\n",
      "     16 W21076\r\n",
      "     16 W20425\r\n",
      "     16 W00714\r\n",
      "     15 W21997\r\n",
      "     15 W21867\r\n",
      "     15 W21641\r\n",
      "     15 W21538\r\n",
      "     15 W21450\r\n",
      "     15 W20540\r\n",
      "     15 W01439\r\n",
      "sort: write failed: standard output: Broken pipe\r\n",
      "sort: write error\r\n"
     ]
    }
   ],
   "source": [
    "!csvcut -c7,8 q1.csv | grep 'Columbus Circle / Union Station'|csvcut -c2 | csvsort | uniq -c | sort -rn | head -15"
   ]
  },
  {
   "cell_type": "markdown",
   "metadata": {},
   "source": [
    "### Problem 3 - Filters\n",
    "#### Part A"
   ]
  },
  {
   "cell_type": "code",
   "execution_count": 2,
   "metadata": {
    "collapsed": false
   },
   "outputs": [
    {
     "name": "stdout",
     "output_type": "stream",
     "text": [
      "   8155 and\r\n",
      "   7689 the\r\n",
      "   5152 to\r\n",
      "   3523 of\r\n",
      "   3245 her\r\n",
      "   2774 it\r\n",
      "   2503 in\r\n",
      "   2447 you\r\n",
      "   2343 she\r\n",
      "   2233 for\r\n",
      "sort: write failed: standard output: Broken pipe\r\n",
      "sort: write error\r\n"
     ]
    }
   ],
   "source": [
    "#top 10 words in Little Women\n",
    "!cat women.txt | grep -oE '\\w{{2,}}'|tr '[:upper:]' '[:lower:]' | sort | uniq -c | sort -rn | head -10"
   ]
  },
  {
   "cell_type": "code",
   "execution_count": 13,
   "metadata": {
    "collapsed": false
   },
   "outputs": [],
   "source": [
    "!chmod +x simplefilter1.py"
   ]
  },
  {
   "cell_type": "code",
   "execution_count": 15,
   "metadata": {
    "collapsed": false
   },
   "outputs": [],
   "source": [
    "!head women.txt | ./simplefilter1.py"
   ]
  },
  {
   "cell_type": "code",
   "execution_count": 30,
   "metadata": {
    "collapsed": false
   },
   "outputs": [
    {
     "name": "stdout",
     "output_type": "stream",
     "text": [
      "﻿the\r\n",
      "project\r\n",
      "gutenberg\r\n",
      "ebook\r\n",
      "of\r\n",
      "little\r\n",
      "women\r\n",
      "by\r\n",
      "louisa\r\n",
      "may\r\n",
      "alcott\r\n",
      "this\r\n",
      "ebook\r\n",
      "is\r\n",
      "for\r\n",
      "the\r\n",
      "use\r\n",
      "of\r\n",
      "anyone\r\n",
      "anywhere\r\n",
      "at\r\n",
      "no\r\n",
      "cost\r\n",
      "and\r\n",
      "with\r\n",
      "almost\r\n",
      "no\r\n",
      "restrictions\r\n",
      "whatsoever\r\n",
      "you\r\n",
      "may\r\n",
      "copy\r\n",
      "it\r\n",
      "give\r\n",
      "it\r\n",
      "away\r\n",
      "or\r\n",
      "reuse\r\n",
      "it\r\n",
      "under\r\n",
      "the\r\n",
      "terms\r\n",
      "of\r\n",
      "the\r\n",
      "project\r\n",
      "gutenberg\r\n",
      "license\r\n",
      "included\r\n",
      "with\r\n",
      "this\r\n",
      "ebook\r\n",
      "or\r\n",
      "online\r\n",
      "at\r\n",
      "wwwgutenbergnet\r\n",
      "title\r\n",
      "little\r\n",
      "women\r\n"
     ]
    }
   ],
   "source": [
    "!chmod +x simplefilter2.py\n",
    "#test\n",
    "!head women.txt | ./simplefilter1.py | ./simplefilter2.py"
   ]
  },
  {
   "cell_type": "code",
   "execution_count": 21,
   "metadata": {
    "collapsed": false
   },
   "outputs": [
    {
     "name": "stdout",
     "output_type": "stream",
     "text": [
      "   8098 and\r\n",
      "   7681 the\r\n",
      "   5148 to\r\n",
      "   4509 a\r\n",
      "   3518 of\r\n",
      "   3245 her\r\n",
      "   3144 i\r\n",
      "   2500 in\r\n",
      "   2470 it\r\n",
      "   2279 she\r\n",
      "sort: write failed: standard output: Broken pipe\r\n",
      "sort: write error\r\n"
     ]
    }
   ],
   "source": [
    "!cat women.txt | ./simplefilter1.py | ./simplefilter2.py | sort | uniq -c | sort -rn | head -10"
   ]
  },
  {
   "cell_type": "code",
   "execution_count": 26,
   "metadata": {
    "collapsed": false
   },
   "outputs": [
    {
     "name": "stdout",
     "output_type": "stream",
     "text": [
      "Collecting stop-words\n",
      "  Downloading stop-words-2015.2.23.1.tar.gz\n",
      "Building wheels for collected packages: stop-words\n",
      "  Running setup.py bdist_wheel for stop-words ... \u001b[?25l-\b \b\\\b \bdone\n",
      "\u001b[?25h  Stored in directory: /home/jovyan/.cache/pip/wheels/22/74/80/77275c2f9f2f1d9841b51e169a38985640a10fbd2711d10791\n",
      "Successfully built stop-words\n",
      "Installing collected packages: stop-words\n",
      "Successfully installed stop-words-2015.2.23.1\n"
     ]
    }
   ],
   "source": [
    "!pip install stop-words"
   ]
  },
  {
   "cell_type": "code",
   "execution_count": 34,
   "metadata": {
    "collapsed": false,
    "scrolled": true
   },
   "outputs": [
    {
     "name": "stdout",
     "output_type": "stream",
     "text": [
      "{'then', \"where's\", 'after', \"you're\", 'themselves', 'should', \"he's\", \"she'd\", 'were', 'own', \"hadn't\", 'from', \"haven't\", 'do', 'have', \"you'll\", 'so', \"i've\", 'yourselves', 'about', \"we'll\", 'their', 'few', 'that', 'i', 'his', 'your', \"we'd\", 'more', \"doesn't\", 'where', \"they've\", 'and', 'is', 'has', 'its', 'theirs', 'my', 'does', 'did', 'for', \"won't\", \"she'll\", 'both', \"who's\", 'over', 'on', 'as', 'would', 'they', 'her', 'himself', 'of', 'them', 'if', \"shouldn't\", 'above', 'could', 'are', \"isn't\", \"there's\", 'it', 'again', 'what', 'there', \"weren't\", 'while', \"aren't\", 'such', 'not', 'myself', 'had', 'some', 'which', 'an', 'with', 'the', 'why', 'because', 'all', 'am', 'hers', \"how's\", 'below', 'once', 'been', 'off', 'than', 'only', 'any', 'cannot', 'this', 'very', \"let's\", 'other', 'most', \"can't\", 'between', 'to', \"couldn't\", 'having', 'those', 'against', 'before', \"they'll\", 'same', 'he', \"that's\", 'further', 'him', 'me', 'or', \"what's\", 'up', \"you'd\", 'itself', 'whom', \"they'd\", 'who', 'no', \"shan't\", \"hasn't\", \"it's\", 'by', \"we're\", 'you', 'yourself', \"don't\", 'here', 'under', \"you've\", 'how', 'these', 'too', 'herself', \"he'll\", 'was', 'ought', \"we've\", 'she', \"when's\", 'ours', 'yours', 'being', 'down', 'through', 'during', \"wouldn't\", 'a', 'until', \"wasn't\", 'be', 'each', 'in', \"didn't\", \"mustn't\", \"i'm\", 'when', 'ourselves', 'our', 'but', \"they're\", 'into', 'at', \"i'll\", \"here's\", 'out', \"he'd\", 'doing', \"i'd\", 'we', \"she's\", \"why's\", 'nor'}\r\n",
      "﻿the\r\n",
      "project\r\n",
      "gutenberg\r\n",
      "ebook\r\n",
      "little\r\n",
      "women\r\n",
      "louisa\r\n",
      "may\r\n",
      "alcott\r\n",
      "ebook\r\n",
      "use\r\n",
      "anyone\r\n",
      "anywhere\r\n",
      "cost\r\n",
      "almost\r\n",
      "restrictions\r\n",
      "whatsoever\r\n",
      "may\r\n",
      "copy\r\n",
      "give\r\n",
      "away\r\n",
      "reuse\r\n",
      "terms\r\n",
      "project\r\n",
      "gutenberg\r\n",
      "license\r\n",
      "included\r\n",
      "ebook\r\n",
      "online\r\n",
      "wwwgutenbergnet\r\n",
      "title\r\n",
      "little\r\n",
      "women\r\n"
     ]
    }
   ],
   "source": [
    "!chmod +x simplefilter3.py\n",
    "!head women.txt | ./simplefilter1.py | ./simplefilter3.py"
   ]
  },
  {
   "cell_type": "code",
   "execution_count": 35,
   "metadata": {
    "collapsed": false
   },
   "outputs": [
    {
     "name": "stdout",
     "output_type": "stream",
     "text": [
      "   1247 jo\r\n",
      "    826 said\r\n",
      "    731 little\r\n",
      "    703 one\r\n",
      "    633 meg\r\n",
      "    583 like\r\n",
      "    571 amy\r\n",
      "    547 laurie\r\n",
      "    540 dont\r\n",
      "    509 will\r\n",
      "sort: write failed: standard output: Broken pipe\r\n",
      "sort: write error\r\n"
     ]
    }
   ],
   "source": [
    "!cat women.txt | ./simplefilter1.py | ./simplefilter3.py | sort | uniq -c | sort -rn | head -10"
   ]
  },
  {
   "cell_type": "code",
   "execution_count": null,
   "metadata": {
    "collapsed": true
   },
   "outputs": [],
   "source": []
  }
 ],
 "metadata": {
  "kernelspec": {
   "display_name": "Python 3",
   "language": "python",
   "name": "python3"
  },
  "language_info": {
   "codemirror_mode": {
    "name": "ipython",
    "version": 3
   },
   "file_extension": ".py",
   "mimetype": "text/x-python",
   "name": "python",
   "nbconvert_exporter": "python",
   "pygments_lexer": "ipython3",
   "version": "3.5.2"
  }
 },
 "nbformat": 4,
 "nbformat_minor": 0
}
